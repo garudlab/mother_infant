{
 "cells": [
  {
   "cell_type": "code",
   "execution_count": 1,
   "metadata": {
    "collapsed": false,
    "deletable": true,
    "editable": true
   },
   "outputs": [
    {
     "name": "stderr",
     "output_type": "stream",
     "text": [
      "Loading sample metadata...\n",
      "Done!\n"
     ]
    }
   ],
   "source": [
    "from utils import config, parse_midas_data, sample_utils as su, temporal_changes_utils, stats_utils, midas_db_utils, parse_patric\n",
    "from collections import defaultdict\n",
    "import math, random, numpy as np\n",
    "import pickle, sys, bz2\n",
    "import matplotlib.pyplot as plt\n",
    "\n",
    "# Cohort list\n",
    "cohorts = ['backhed', 'ferretti', 'yassour', 'shao', 'olm', 'hmp']\n",
    "\n",
    "# Plot directory\n",
    "plot_dir = \"%s/\" % (config.analysis_directory)\n",
    "\n",
    "# Species list\n",
    "good_species_list = parse_midas_data.load_pickled_good_species_list()\n",
    "\n",
    "# Sample-subject-order maps\n",
    "sys.stderr.write(\"Loading sample metadata...\\n\")\n",
    "subject_sample_map = su.parse_subject_sample_map()\n",
    "sample_order_map = su.parse_sample_order_map()\n",
    "sample_subject_map = su.parse_sample_subject_map()\n",
    "same_mi_pair_dict = su.get_same_mi_pair_dict(subject_sample_map)\n",
    "sys.stderr.write(\"Done!\\n\")\n",
    "\n",
    "# Timepoint pair types\n",
    "tp_pair_names = ['MM', 'MI', 'II', 'AA']\n",
    "\n",
    "# Cohorts\n",
    "cohorts = ['backhed', 'ferretti', 'yassour', 'shao', 'hmp']\n",
    "mi_cohorts = ['backhed', 'ferretti', 'yassour', 'shao']\n",
    "\n",
    "# Samples for each cohort\n",
    "samples = {cohort: su.get_sample_names(cohort) for cohort in cohorts}\n",
    "hmp_samples = su.get_sample_names('hmp')\n",
    "mother_samples = su.get_sample_names('mother')\n",
    "infant_samples = su.get_sample_names('infant')\n",
    "olm_samples = su.get_sample_names('olm')\n",
    "infant_samples_no_olm = [sample for sample in infant_samples if sample not in olm_samples]\n",
    "mi_samples_no_olm = [sample for sample in (mother_samples + infant_samples) if sample not in olm_samples]\n",
    "\n",
    "# Sample-cohort map\n",
    "sample_cohort_map = su.parse_sample_cohort_map()\n",
    "\n",
    "# Sample-timepoint map\n",
    "mi_sample_day_dict = su.get_mi_sample_day_dict(exclude_cohorts=['olm'])\n",
    "mi_tp_sample_dict = su.get_mi_tp_sample_dict(exclude_cohorts=['olm']) # no binning\n",
    "mi_tp_sample_dict_binned, mi_tp_binned_labels = su.get_mi_tp_sample_dict(exclude_cohorts=['olm'], binned=True)"
   ]
  },
  {
   "cell_type": "code",
   "execution_count": 2,
   "metadata": {
    "collapsed": true,
    "deletable": true,
    "editable": true
   },
   "outputs": [],
   "source": [
    "# ======================================================================\n",
    "# Load pickled data\n",
    "# ======================================================================\n",
    "\n",
    "# Parameters\n",
    "sweep_type = 'full' # assume full for now\n",
    "pp_prev_cohort = 'all'\n",
    "min_coverage = 0\n",
    "\n",
    "ddir = config.data_directory\n",
    "pdir = \"%s/pickles/cov%i_prev_%s/\" % (ddir, min_coverage, pp_prev_cohort)\n",
    "\n",
    "snp_changes = pickle.load(open('%s/big_snp_changes_%s.pkl' % (pdir, sweep_type), 'rb'))\n",
    "gene_changes = pickle.load(open('%s/big_gene_changes_%s.pkl' % (pdir, sweep_type), 'rb'))\n",
    "snp_change_freqs = pickle.load(open('%s/snp_change_freqs_%s.pkl' % (pdir, sweep_type), 'rb'))\n",
    "snp_change_null_freqs = pickle.load(open('%s/snp_change_null_freqs_%s.pkl' % (pdir, sweep_type), 'rb'))\n",
    "gene_gain_freqs = pickle.load(open('%s/gene_gain_freqs_%s.pkl' % (pdir, sweep_type), 'rb'))\n",
    "gene_loss_freqs = pickle.load(open('%s/gene_loss_freqs_%s.pkl' % (pdir, sweep_type), 'rb'))\n",
    "gene_loss_null_freqs = pickle.load(open('%s/gene_loss_null_freqs_%s.pkl' % (pdir, sweep_type), 'rb'))\n",
    "between_snp_change_counts = pickle.load(open('%s/between_snp_change_counts_%s.pkl' % (pdir, sweep_type), 'rb'))\n",
    "between_gene_change_counts = pickle.load(open('%s/between_gene_change_counts_%s.pkl' % (pdir, sweep_type), 'rb'))"
   ]
  },
  {
   "cell_type": "code",
   "execution_count": 3,
   "metadata": {
    "collapsed": false,
    "deletable": true,
    "editable": true
   },
   "outputs": [],
   "source": [
    "# Relative abundance file\n",
    "relab_fpath = \"%s/species/relative_abundance.txt.bz2\" % (config.data_directory)\n",
    "relab_file = open(relab_fpath, 'r')\n",
    "decompressor = bz2.BZ2Decompressor()\n",
    "raw = decompressor.decompress(relab_file.read())\n",
    "data = [row.split('\\t') for row in raw.split('\\n')]\n",
    "data.pop() # Get rid of extra element due to terminal newline\n",
    "header = su.parse_merged_sample_names(data[0]) # species_id, samples...\n",
    "\n",
    "# Load species presence/absence information\n",
    "sample_species_dict = defaultdict(set)\n",
    "\n",
    "for row in data[1:]:\n",
    "    species = row[0]\n",
    "    for relab_str, sample in zip(row[1:], header[1:]):\n",
    "        relab = float(relab_str)\n",
    "        if relab > 0:\n",
    "            sample_species_dict[sample].add(species)"
   ]
  },
  {
   "cell_type": "code",
   "execution_count": 4,
   "metadata": {
    "collapsed": true,
    "deletable": true,
    "editable": true
   },
   "outputs": [],
   "source": [
    "# Custom sample pair cohorts [not just sample!]\n",
    "\n",
    "is_mi = lambda sample_i, sample_j: ((sample_i in mother_samples and sample_j in infant_samples_no_olm) and mi_sample_day_dict[sample_i] >= 0 and mi_sample_day_dict[sample_i] <= 7 and mi_sample_day_dict[sample_j] <= 7)"
   ]
  },
  {
   "cell_type": "code",
   "execution_count": 13,
   "metadata": {
    "collapsed": false,
    "deletable": true,
    "editable": true
   },
   "outputs": [],
   "source": [
    "num_transmission = 0 # Number of MI QP pairs which are strain transmissions\n",
    "num_transmission_shared_species = []\n",
    "num_replacement = 0 # Number of MI QP pairs which are strain replacements\n",
    "num_replacement_shared_species = []\n",
    "num_total = 0 # Total number of MI QP pairs (sanity check)\n",
    "num_shared_species_per_dyad = {}\n",
    "shared_highcov_species_per_dyad = defaultdict(set)\n",
    "existing_hosts = set()\n",
    "\n",
    "# For every mother-infant QP pair, also count number of shared species\n",
    "for species in snp_changes:\n",
    "    for sample_i, sample_j in snp_changes[species]:\n",
    "        \n",
    "        # Only consider mother-infant QP pairs\n",
    "        if not is_mi(sample_i, sample_j):\n",
    "            continue\n",
    "        \n",
    "        # Make sure only one sample pair per host\n",
    "        host = sample_order_map[sample_i][0][:-2]\n",
    "        if host in existing_hosts:\n",
    "            continue\n",
    "        existing_hosts.add(host)\n",
    "        \n",
    "        num_total += 1\n",
    "        \n",
    "        # Get number of shared species\n",
    "        shared_species = sample_species_dict[sample_i].intersection(sample_species_dict[sample_j])\n",
    "        num_shared_species = len(shared_species)\n",
    "        \n",
    "        num_shared_species_per_dyad[(sample_i, sample_j)] = num_shared_species\n",
    "        shared_highcov_species_per_dyad[(sample_i, sample_j)].add(species)\n",
    "        \n",
    "        # Get number of SNP differences\n",
    "        val = snp_changes[species][(sample_i, sample_j)]\n",
    "                \n",
    "        if (type(val) == type(1)): # Replacement\n",
    "            num_replacement += 1\n",
    "            num_replacement_shared_species.append(num_shared_species)\n",
    "        else: # Modification or no change\n",
    "            num_transmission += 1\n",
    "            num_transmission_shared_species.append(num_shared_species)"
   ]
  },
  {
   "cell_type": "code",
   "execution_count": 7,
   "metadata": {
    "collapsed": false,
    "deletable": true,
    "editable": true
   },
   "outputs": [],
   "source": [
    "hosts = defaultdict(int)\n",
    "for s1, s2 in num_shared_species_per_dyad:\n",
    "    if sample_order_map[s1][0][:-2] != sample_order_map[s2][0][:-2]:\n",
    "        print(\"Weird\")\n",
    "    hosts[sample_order_map[s1][0][:-2]] += 1"
   ]
  },
  {
   "cell_type": "code",
   "execution_count": 18,
   "metadata": {
    "collapsed": false,
    "deletable": true,
    "editable": true
   },
   "outputs": [
    {
     "name": "stdout",
     "output_type": "stream",
     "text": [
      "40 transmissions\n",
      "1397 shared species aggregated over transmissions\n",
      "6 replacements\n",
      "247 shared species aggregated over replacements\n",
      "46 total mother-infant QP pairs\n",
      "1644 total shared species aggregated over dyads\n",
      "46 dyads\n",
      "46 total shared highcov species aggregated over dyads\n"
     ]
    }
   ],
   "source": [
    "print(\"%i transmissions\" % num_transmission)\n",
    "print(\"%i shared species aggregated over transmissions\" % sum([nss for nss in num_transmission_shared_species]))\n",
    "print(\"%i replacements\" % num_replacement)\n",
    "print(\"%i shared species aggregated over replacements\" % sum([nss for nss in num_replacement_shared_species]))\n",
    "print(\"%i total mother-infant QP pairs\" % num_total)\n",
    "print(\"%i total shared species aggregated over dyads\" % sum(num_shared_species_per_dyad.values()))\n",
    "print(\"%i dyads\" % len(shared_highcov_species_per_dyad))\n",
    "print(\"%i total shared highcov species aggregated over dyads\" % sum([len(shared_highcov_species_per_dyad[dyad]) for dyad in shared_highcov_species_per_dyad]))"
   ]
  },
  {
   "cell_type": "code",
   "execution_count": 34,
   "metadata": {
    "collapsed": false,
    "deletable": true,
    "editable": true
   },
   "outputs": [
    {
     "data": {
      "text/plain": [
       "0.013814832767813864"
      ]
     },
     "execution_count": 34,
     "metadata": {},
     "output_type": "execute_result"
    }
   ],
   "source": [
    "float(num_transmission)/(sum([len(nss) for nss in num_transmission_shared_species])*2)"
   ]
  }
 ],
 "metadata": {
  "kernelspec": {
   "display_name": "Python 2",
   "language": "python",
   "name": "python2"
  },
  "language_info": {
   "codemirror_mode": {
    "name": "ipython",
    "version": 2
   },
   "file_extension": ".py",
   "mimetype": "text/x-python",
   "name": "python",
   "nbconvert_exporter": "python",
   "pygments_lexer": "ipython2",
   "version": "2.7.13"
  }
 },
 "nbformat": 4,
 "nbformat_minor": 2
}
