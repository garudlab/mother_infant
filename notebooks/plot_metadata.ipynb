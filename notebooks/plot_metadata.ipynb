{
 "cells": [
  {
   "cell_type": "code",
   "execution_count": 61,
   "metadata": {},
   "outputs": [
    {
     "name": "stderr",
     "output_type": "stream",
     "text": [
      "Loading sample metadata...\n",
      "Done!\n"
     ]
    }
   ],
   "source": [
    "import config, parse_midas_data, sample_utils as su, temporal_changes_utils, stats_utils, midas_db_utils, parse_patric\n",
    "from collections import defaultdict\n",
    "import numpy as np\n",
    "from numpy.random import binomial as sample_binomial\n",
    "import math\n",
    "import pickle\n",
    "import sys\n",
    "import random\n",
    "from math import log10,ceil,log,exp\n",
    "\n",
    "import matplotlib.cm as cmx\n",
    "import matplotlib.pyplot as plt\n",
    "import matplotlib.gridspec as gridspec\n",
    "import matplotlib.colors as mcolors\n",
    "import matplotlib.patheffects as pe\n",
    "from matplotlib.patches import Patch\n",
    "\n",
    "# Cohort list\n",
    "cohorts = ['backhed', 'ferretti', 'yassour', 'shao', 'olm', 'hmp']\n",
    "\n",
    "# Plot directory\n",
    "plot_dir = \"%s/\" % (config.analysis_directory)\n",
    "\n",
    "# Species list\n",
    "good_species_list = parse_midas_data.load_pickled_good_species_list()\n",
    "\n",
    "# Sample-subject-order maps\n",
    "sys.stderr.write(\"Loading sample metadata...\\n\")\n",
    "subject_sample_map = su.parse_subject_sample_map()\n",
    "sample_order_map = su.parse_sample_order_map()\n",
    "sample_subject_map = su.parse_sample_subject_map()\n",
    "same_mi_pair_dict = su.get_same_mi_pair_dict(subject_sample_map)\n",
    "sys.stderr.write(\"Done!\\n\")\n",
    "\n",
    "# Timepoint pair types\n",
    "tp_pair_names = ['MM', 'MI', 'II', 'AA']\n",
    "\n",
    "# Cohorts\n",
    "cohorts = ['backhed', 'ferretti', 'yassour', 'shao', 'hmp']\n",
    "mi_cohorts = ['backhed', 'ferretti', 'yassour', 'shao']\n",
    "\n",
    "# Samples for each cohort\n",
    "samples = {cohort: su.get_sample_names(cohort) for cohort in cohorts}\n",
    "hmp_samples = su.get_sample_names('hmp')\n",
    "mother_samples = su.get_sample_names('mother')\n",
    "infant_samples = su.get_sample_names('infant')\n",
    "olm_samples = su.get_sample_names('olm')\n",
    "\n",
    "# Sample-cohort map\n",
    "sample_cohort_map = su.parse_sample_cohort_map()\n",
    "\n",
    "# Sample-timepoint map\n",
    "mi_sample_day_dict = su.get_mi_sample_day_dict(exclude_cohorts=['olm'])\n",
    "mi_tp_sample_dict = su.get_mi_tp_sample_dict(exclude_cohorts=['olm']) # no binning\n",
    "mi_tp_sample_dict_binned, mi_tp_binned_labels = su.get_mi_tp_sample_dict(exclude_cohorts=['olm'], binned=True)\n",
    "\n",
    "# Narrow down samples to no Olm, and mother only at delivery\n",
    "# (Exception made for Backhed, since )\n",
    "infant_samples = [sample for sample in infant_samples if sample not in olm_samples]\n",
    "mother_samples = [sample for sample in mother_samples if (mi_sample_day_dict[sample] <= 30 and mi_sample_day_dict[sample] > -7)]\n",
    "mi_samples = [sample for sample in (mother_samples + infant_samples) if sample not in olm_samples]"
   ]
  },
  {
   "cell_type": "code",
   "execution_count": 47,
   "metadata": {},
   "outputs": [
    {
     "name": "stdout",
     "output_type": "stream",
     "text": [
      "Day 0:\t92 mother samples\n",
      "Day 1:\t180 mother samples\n",
      "Day 2:\t17 mother samples\n",
      "Day 3:\t12 mother samples\n",
      "Day 4:\t10 mother samples\n",
      "Day 5:\t5 mother samples\n",
      "Day 6:\t5 mother samples\n",
      "Day 7:\t3 mother samples\n",
      "Day 8:\t5 mother samples\n",
      "Day 9:\t1 mother samples\n",
      "Day 10:\t2 mother samples\n",
      "Day 11:\t2 mother samples\n",
      "Day 12:\t2 mother samples\n",
      "Day 20:\t1 mother samples\n",
      "Day -92:\t42 mother samples\n",
      "Day 92:\t31 mother samples\n"
     ]
    }
   ],
   "source": [
    "# Distribution of mother sample timepoints\n",
    "# To decide which ones to exclude\n",
    "\n",
    "day_count_dict = defaultdict(int)\n",
    "\n",
    "for sample in su.get_sample_names('mother'):\n",
    "    day = mi_sample_day_dict[sample]\n",
    "    day_count_dict[day] += 1\n",
    "\n",
    "for day in day_count_dict:\n",
    "    print(\"Day %i:\\t%i mother samples\" % (day, day_count_dict[day]))"
   ]
  },
  {
   "cell_type": "code",
   "execution_count": 48,
   "metadata": {},
   "outputs": [
    {
     "name": "stdout",
     "output_type": "stream",
     "text": [
      "Qin: 185 subjects, 185 samples\n",
      "# samples per subject: set([1, 2, 3, 4, 5, 6, 7, 8, 9, 10, 11, 13, 14, 15, 16, 17, 18, 19, 20, 21, 22])\n"
     ]
    }
   ],
   "source": [
    "# Qin metadata\n",
    "f = open('%s/qin_ids.txt' % config.metadata_directory)\n",
    "header = f.readline()\n",
    "\n",
    "qin_subjects = set()\n",
    "qin_samples = set()\n",
    "qin_subject_sample_map = defaultdict(list)\n",
    "\n",
    "for line in f:\n",
    "    subject_id, sample_id, run_accession, country, continent, t2d = line.strip().split('\\t')\n",
    "    qin_subjects.add(subject_id)\n",
    "    qin_samples.add(run_accession)\n",
    "    qin_subject_sample_map[subject_id].append(run_accession)\n",
    "    sample_cohort_map[run_accession] = 'qin' # Update sample_cohort_map\n",
    "\n",
    "print(\"Qin: %i subjects, %i samples\" % (len(qin_subjects), len(qin_samples)))\n",
    "print(\"# samples per subject: %s\" % str(set([len(subject_sample_map[subj]) for subj in subject_sample_map])))"
   ]
  },
  {
   "cell_type": "code",
   "execution_count": 49,
   "metadata": {},
   "outputs": [
    {
     "name": "stdout",
     "output_type": "stream",
     "text": [
      "3053 total samples from all cohorts\n",
      "Total number of mother-infant subjects (excludes Qin): 1016\n",
      "Total number of subjects: 1533\n"
     ]
    }
   ],
   "source": [
    "# EVERY SAMPLE CONSIDERED IN THIS STUDY\n",
    "\n",
    "all_samples = list(mi_samples) + list(hmp_samples) + list(qin_samples)\n",
    "\n",
    "print(\"%i total samples from all cohorts\" % len(all_samples))\n",
    "\n",
    "# Make subject_cohort_map\n",
    "subject_cohort_map = {}\n",
    "# Combine mother infant as same subject\n",
    "mi_subject_cohort_map = {}\n",
    "cohort_subjects = defaultdict(list)\n",
    "\n",
    "for subject in subject_sample_map: # Includes Qin\n",
    "    for some_sample in subject_sample_map[subject]:\n",
    "        if some_sample in all_samples:\n",
    "            cohort = sample_cohort_map[some_sample]\n",
    "            subject_cohort_map[subject] = cohort\n",
    "        else:\n",
    "            continue\n",
    "\n",
    "        if some_sample in mi_samples:\n",
    "            combined_subject = subject[:-2]\n",
    "            mi_subject_cohort_map[combined_subject] = cohort\n",
    "        else:\n",
    "            mi_subject_cohort_map[subject] = cohort\n",
    "\n",
    "for subject in mi_subject_cohort_map:\n",
    "    cohort = mi_subject_cohort_map[subject]\n",
    "    cohort_subjects[cohort].append(subject)\n",
    "\n",
    "print(\"Total number of mother-infant subjects (excludes Qin): %i\" % len(mi_subject_cohort_map))\n",
    "\n",
    "# EVERY SUBJECT\n",
    "all_subjects = list(qin_subjects) + list(set([(sample_subject_map[sample]) for sample in all_samples if sample not in qin_samples]))\n",
    "\n",
    "print(\"Total number of subjects: %i\" % (len(all_subjects)))"
   ]
  },
  {
   "cell_type": "code",
   "execution_count": 50,
   "metadata": {},
   "outputs": [
    {
     "name": "stdout",
     "output_type": "stream",
     "text": [
      "yassour: 44 subjects\n",
      "ferretti: 25 subjects\n",
      "hmp: 249 subjects\n",
      "shao: 600 subjects\n",
      "backhed: 98 subjects\n"
     ]
    }
   ],
   "source": [
    "# NOTE: there are 4 Shao subjects that ONLY have one mother sample.\n",
    "# Not counting these in number of hosts in Table 1.\n",
    "\n",
    "# Also, there is 1 Yassour subject that has ONLY one mother sample\n",
    "# (when mother is restricted to delivery). Also not counting this host.\n",
    "for cohort in cohort_subjects:\n",
    "    print(\"%s: %i subjects\" % (cohort, len(set(cohort_subjects[cohort]))))"
   ]
  },
  {
   "cell_type": "code",
   "execution_count": 51,
   "metadata": {},
   "outputs": [
    {
     "name": "stdout",
     "output_type": "stream",
     "text": [
      "337 mother subjects, 337 samples\n",
      "762 infant subjects, 2062 samples\n",
      "2399 total MI samples\n",
      "249 HMP subjects, 469 samples\n",
      "\n",
      "yassour: 43 subjects\n",
      "ferretti: 25 subjects\n",
      "hmp: 249 subjects\n",
      "shao: 596 subjects\n",
      "backhed: 98 subjects\n"
     ]
    }
   ],
   "source": [
    "# Subjects per broad type\n",
    "subjects_count = {'mother': set(), 'infant': set(), 'adult': set()}\n",
    "\n",
    "# Subjects per cohort (infant)\n",
    "cohorts_count = defaultdict(set)\n",
    "\n",
    "# Subjects per cohort (mother)\n",
    "cohorts_mother_count = defaultdict(set)\n",
    "\n",
    "# Samples per cohort (combine mother and infant)\n",
    "samples_cohort_count = defaultdict(int)\n",
    "\n",
    "for sample in sample_subject_map:\n",
    "    subject = sample_subject_map[sample]\n",
    "    if sample in mother_samples:\n",
    "        x = 'mother'\n",
    "        cohort = sample_cohort_map[sample]\n",
    "        cohorts_mother_count[cohort].add(subject)\n",
    "        samples_cohort_count[cohort] += 1\n",
    "    elif sample in infant_samples:\n",
    "        x = 'infant'\n",
    "        cohort = sample_cohort_map[sample]\n",
    "        cohorts_count[cohort].add(subject)\n",
    "        samples_cohort_count[cohort] += 1\n",
    "    elif sample in hmp_samples:\n",
    "        x = 'adult' # technically I mean HMP\n",
    "        cohorts_count['hmp'].add(subject)\n",
    "        samples_cohort_count['hmp'] += 1\n",
    "    else:\n",
    "        continue\n",
    "    subjects_count[x].add(subject)\n",
    "\n",
    "print(\"%i mother subjects, %i samples\" % (len(subjects_count['mother']), len(mother_samples)))\n",
    "print(\"%i infant subjects, %i samples\" % (len(subjects_count['infant']), len(infant_samples)))\n",
    "print(\"%i total MI samples\" % len(mi_samples))\n",
    "print(\"%i HMP subjects, %i samples\" % (len(subjects_count['adult']), len(hmp_samples)))\n",
    "\n",
    "print('')\n",
    "\n",
    "for cohort in cohorts_count:\n",
    "    print(\"%s: %i subjects\" % (cohort, len(cohorts_count[cohort])))"
   ]
  },
  {
   "cell_type": "code",
   "execution_count": 52,
   "metadata": {},
   "outputs": [
    {
     "name": "stdout",
     "output_type": "stream",
     "text": [
      "qin\n",
      "[1]\n",
      "hmp\n",
      "[1, 2, 3]\n",
      "yassour\n",
      "[1, 2, 4, 5, 6]\n",
      "backhed\n",
      "[3, 4]\n",
      "ferretti\n",
      "[2, 3, 4, 5, 6]\n",
      "shao\n",
      "[1, 2, 3, 4, 5, 6, 7]\n"
     ]
    }
   ],
   "source": [
    "# Summarize number of timepoints per host (combined mother-infant)\n",
    "\n",
    "cohort_combined_subject_sample_dict = {cohort: defaultdict(set) for cohort in ['hmp', 'shao', 'ferretti', 'yassour', 'backhed', 'qin']}\n",
    "\n",
    "for sample in all_samples:\n",
    "    \n",
    "    if sample in qin_samples:\n",
    "        subject = sample\n",
    "        cohort = 'qin'\n",
    "    else:\n",
    "        subject = sample_subject_map[sample]\n",
    "        cohort = sample_cohort_map[sample]\n",
    "    \n",
    "    if sample in mi_samples:\n",
    "        subject = subject[:-2]\n",
    "    \n",
    "    cohort_combined_subject_sample_dict[cohort][subject].add(sample)\n",
    "\n",
    "for cohort in cohort_combined_subject_sample_dict:\n",
    "    print(cohort)\n",
    "    print(sorted(list(set([len(cohort_combined_subject_sample_dict[cohort][subject]) for subject in cohort_combined_subject_sample_dict[cohort]]))))"
   ]
  },
  {
   "cell_type": "code",
   "execution_count": null,
   "metadata": {},
   "outputs": [
    {
     "name": "stdout",
     "output_type": "stream",
     "text": [
      "Number of QP mother-infant samples: 8222\n",
      "Number of non-QP mother-infant samples: 1574\n"
     ]
    }
   ],
   "source": [
    "# Num QP vs. non-QP samples in mother-infant\n",
    "# Note, this is consistent with 7063 infant + 1159 mother QP samples\n",
    "\n",
    "num_non = 0\n",
    "num_qp = 0\n",
    "for species in good_species_list:\n",
    "    test = su.load_qp_samples(mi_samples, species)\n",
    "    num_non += len(test['non-qp'])\n",
    "    num_qp += len(test['qp'])\n",
    "\n",
    "print(\"Number of QP mother-infant samples: %i\" % num_qp)\n",
    "print(\"Number of non-QP mother-infant samples: %i\" % num_non)"
   ]
  },
  {
   "cell_type": "code",
   "execution_count": 131,
   "metadata": {},
   "outputs": [
    {
     "name": "stdout",
     "output_type": "stream",
     "text": [
      "Number of QP HMP samples: 999\n",
      "Number of non-QP HMP samples: 3544\n"
     ]
    }
   ],
   "source": [
    "# Num QP vs. non-QP samples in HMP\n",
    "\n",
    "num_non_hmp = 0\n",
    "num_qp_hmp = 0\n",
    "for species in good_species_list:\n",
    "    test = su.load_qp_samples(hmp_samples, species)\n",
    "    num_non_hmp += len(test['non-qp'])\n",
    "    num_qp_hmp += len(test['qp'])\n",
    "\n",
    "print(\"Number of QP HMP samples: %i\" % num_qp_hmp)\n",
    "print(\"Number of non-QP HMP samples: %i\" % num_non_hmp)"
   ]
  },
  {
   "cell_type": "code",
   "execution_count": 7,
   "metadata": {},
   "outputs": [
    {
     "name": "stdout",
     "output_type": "stream",
     "text": [
      "backhed: 98 infants, 98 mothers\n",
      "ferretti: 25 infants, 21 mothers\n",
      "yassour: 43 infants, 43 mothers\n",
      "shao: 596 infants, 175 mothers\n",
      "Total infant subjects: 762\n",
      "Total mother subjects: 337\n"
     ]
    }
   ],
   "source": [
    "# Get some basic metadata numbers for report (once more)\n",
    "\n",
    "cohort_infant_subjects_map = {cohort: set() for cohort in mi_cohorts}\n",
    "cohort_mother_subjects_map = {cohort: set() for cohort in mi_cohorts}\n",
    "\n",
    "for sample in mi_samples_no_olm:\n",
    "    subject = sample_subject_map[sample]\n",
    "    cohort = sample_cohort_map[sample]\n",
    "    if sample in mother_samples:\n",
    "        cohort_mother_subjects_map[cohort].add(subject)\n",
    "    elif sample in infant_samples:\n",
    "        cohort_infant_subjects_map[cohort].add(subject)\n",
    "    else:\n",
    "        print(\"Shouldn't happen!\")\n",
    "\n",
    "for cohort in mi_cohorts:\n",
    "    print(\"%s: %i infants, %i mothers\" % (cohort, \n",
    "                                          len(cohort_infant_subjects_map[cohort]), \n",
    "                                          len(cohort_mother_subjects_map[cohort])))\n",
    "\n",
    "print(\"Total infant subjects: %i\" % (sum([len(cohort_infant_subjects_map[cohort]) for cohort in mi_cohorts])))\n",
    "print(\"Total mother subjects: %i\" % (sum([len(cohort_mother_subjects_map[cohort]) for cohort in mi_cohorts])))"
   ]
  },
  {
   "cell_type": "code",
   "execution_count": 65,
   "metadata": {},
   "outputs": [
    {
     "name": "stdout",
     "output_type": "stream",
     "text": [
      "birth:\t0-0\t\tset(['yassour', 'backhed'])\n",
      "1 day:\t1-1\t\tset(['ferretti', 'backhed'])\n",
      "2 day:\t2-2\t\tset(['backhed'])\n",
      "3 day:\t3-3\t\tset(['ferretti', 'backhed'])\n",
      "4 day:\t4-4\t\tset(['shao', 'backhed'])\n",
      "5 day:\t5-5\t\tset(['backhed'])\n",
      "6 day:\t6-6\t\tset(['shao', 'backhed'])\n",
      "1 wk:\t7-13\t\tset(['ferretti', 'shao', 'backhed'])\n",
      "2 wk:\t14-18\t\tset(['yassour', 'shao'])\n",
      "3 wk:\t21-21\t\tset(['shao'])\n",
      "1 mon:\t30-30\t\tset(['ferretti', 'yassour'])\n",
      "2 mon:\t61-61\t\tset(['yassour'])\n",
      "3 mon:\t92-121\t\tset(['yassour', 'backhed'])\n",
      "4 mon:\t122-150\t\tset(['ferretti', 'shao', 'backhed'])\n",
      "5 mon:\t172-182\t\tset(['shao'])\n",
      "6 mon:\t184-211\t\tset(['shao'])\n",
      "7 mon:\t213-243\t\tset(['shao'])\n",
      "8 mon:\t253-272\t\tset(['shao'])\n",
      "9 mon:\t274-303\t\tset(['shao'])\n",
      "10 mon:\t305-333\t\tset(['shao'])\n",
      "11 mon:\t335-364\t\tset(['shao', 'backhed'])\n",
      "1 yr:\t365-435\t\tset(['shao', 'backhed'])\n"
     ]
    }
   ],
   "source": [
    "# Make sure tp bin and precise day match\n",
    "for tp_bin in mi_tp_binned_labels:\n",
    "    day_set = set()\n",
    "    cohort_set = set()\n",
    "    for sample in mi_tp_sample_dict_binned['infant'][tp_bin]:\n",
    "        day_set.add(mi_sample_day_dict[sample])\n",
    "        cohort_set.add(sample_cohort_map[sample])\n",
    "    print(\"%s:\\t%i-%i\\t\\t%s\" % (tp_bin, min(day_set), max(day_set), str(cohort_set)))"
   ]
  },
  {
   "cell_type": "code",
   "execution_count": 76,
   "metadata": {},
   "outputs": [
    {
     "data": {
      "image/png": "[encoded data removed]",
      "text/plain": [
       "<Figure size 720x360 with 1 Axes>"
      ]
     },
     "metadata": {
      "needs_background": "light"
     },
     "output_type": "display_data"
    }
   ],
   "source": [
    "# Supplemental Figure S1\n",
    "\n",
    "fig, ax = plt.subplots(figsize=(10, 5))\n",
    "\n",
    "# mi_tp_binned_labels.remove('6 day')\n",
    "\n",
    "\n",
    "cohorts = ['backhed', 'ferretti', 'yassour', 'shao', 'hmp']\n",
    "tp_labels = ['Mother'] + mi_tp_binned_labels[1:] + ['HMP']\n",
    "tp_labels_abbreviated = ['M'] + [(label.split(' ')[1][0].upper() + label.split(' ')[0]) for label in mi_tp_binned_labels[1:]] + ['HMP']\n",
    "\n",
    "bin_counts_per_cohort = {cohort: np.zeros(len(tp_labels)) for cohort in cohorts}\n",
    "\n",
    "for sample in mother_samples: # mother_samples should already not include Yassour +/- 3 months\n",
    "    cohort = sample_cohort_map[sample]\n",
    "    bin_counts_per_cohort[cohort][0] += 1\n",
    "\n",
    "for infant_tp_bin, idx in zip(mi_tp_binned_labels[1:], np.arange(1, 1+len(mi_tp_binned_labels[1:]))):\n",
    "    \n",
    "    if infant_tp_bin == '1 day': # Merge birth and 1 day into 1 day\n",
    "        for sample in mi_tp_sample_dict_binned['infant']['birth']:\n",
    "            cohort = sample_cohort_map[sample]\n",
    "            bin_counts_per_cohort[cohort][idx] += 1\n",
    "    \n",
    "    for sample in mi_tp_sample_dict_binned['infant'][infant_tp_bin]:\n",
    "        cohort = sample_cohort_map[sample]\n",
    "        bin_counts_per_cohort[cohort][idx] += 1\n",
    "\n",
    "for sample in hmp_samples:\n",
    "    cohort = sample_cohort_map[sample]\n",
    "    bin_counts_per_cohort[cohort][1+len(mi_tp_binned_labels[1:])] += 1\n",
    "\n",
    "indices = np.arange(len(tp_labels))    \n",
    "\n",
    "acc = np.zeros(len(tp_labels))\n",
    "for cohort in cohorts:\n",
    "    cohort_label = 'HMP' if cohort == 'hmp' else cohort.capitalize()\n",
    "    ax.bar(indices, bin_counts_per_cohort[cohort], label=cohort_label, bottom=acc)\n",
    "    acc += bin_counts_per_cohort[cohort]\n",
    "\n",
    "ax.set_ylabel(\"Number of samples\")\n",
    "# ax.set_yscale('log')\n",
    "ax.set_xticks(indices)\n",
    "ax.set_xticklabels(tp_labels_abbreviated)\n",
    "\n",
    "ax.set_ylim((0, 700))\n",
    "ax.legend(frameon=False, loc='upper center', ncol=len(cohorts))\n",
    "\n",
    "plt.show()\n",
    "fig.savefig('%s/samples_by_tp_cohorts.pdf' % (config.analysis_directory),bbox_inches='tight')\n",
    "fig.savefig('%s/samples_by_tp_cohorts.png' % (config.analysis_directory),bbox_inches='tight', dpi=500)"
   ]
  },
  {
   "cell_type": "code",
   "execution_count": 8,
   "metadata": {
    "collapsed": true
   },
   "outputs": [],
   "source": [
    "# Set up data and custom bins for metadata overview figure\n",
    "\n",
    "custom_bins = ['Mother', 'Birth\\n(meconium)', 'Day 1', 'Day 3-4', 'Day 6', \n",
    "               'Week 1', 'Week 2', 'Week 3', 'Month 1', 'Month 2', 'Month 3', \n",
    "               'Month 4', 'Month 12', 'Month 4-14']\n",
    "custom_infant_bins = custom_bins[1:]\n",
    "custom_bin_defs = {'Mother': (-100, 100), 'Birth\\n(meconium)': (0, 0), 'Day 1': (1, 1), 'Day 3-4': (3,4), 'Day 6': (6,6),\n",
    "                  'Week 1': (7, 13), 'Week 2': (14, 20), 'Week 3': (21, 21), 'Month 1': (30, 31), 'Month 2': (60, 62),\n",
    "                  'Month 3': (91, 93), 'Month 4': (122, 122), 'Month 12': (366, 366), 'Month 4-14': (124, 440)}\n",
    "\n",
    "def get_infant_tp_bin(tp, custom_infant_bins, custom_bin_defs):\n",
    "    for bin_label in custom_infant_bins:\n",
    "        start, end = custom_bin_defs[bin_label]\n",
    "        if tp >= start and tp <= end:\n",
    "            return bin_label\n",
    "    return str(tp)\n",
    "\n",
    "timepoints_by_cohort = {cohort: [] for cohort in mi_cohorts}\n",
    "subject_ids_by_cohort = {cohort: [] for cohort in mi_cohorts}\n",
    "all_timepoints = set()\n",
    "\n",
    "custom_bins_by_cohort = {cohort: [] for cohort in mi_cohorts}\n",
    "\n",
    "i = 0\n",
    "for subject in subject_sample_map:\n",
    "    for sample in subject_sample_map[subject]:        \n",
    "        if sample not in mi_samples_no_olm:\n",
    "            continue\n",
    "        cohort = sample_cohort_map[sample]\n",
    "        day = mi_sample_day_dict[sample]\n",
    "        \n",
    "        if sample in mother_samples:\n",
    "            if not (day >= 0 and day <= 7): # ignore other mom timepoints here\n",
    "                continue\n",
    "            custom_bin = 'Mother'\n",
    "        else:\n",
    "            custom_bin = get_infant_tp_bin(day, custom_infant_bins, custom_bin_defs)\n",
    "        custom_bins_by_cohort[cohort].append(custom_bin)\n",
    "        \n",
    "        timepoints_by_cohort[cohort].append(day)\n",
    "        subject_ids_by_cohort[cohort].append(i)\n",
    "        \n",
    "        all_timepoints.add(day)\n",
    "    i += 1\n",
    "\n",
    "# Custom tweak to Shao\n",
    "custom_bins_by_cohort['shao'].remove('Month 12')"
   ]
  },
  {
   "cell_type": "code",
   "execution_count": 13,
   "metadata": {},
   "outputs": [
    {
     "data": {
      "image/png": "[encoded data removed]",
      "text/plain": [
       "<Figure size 864x576 with 4 Axes>"
      ]
     },
     "metadata": {},
     "output_type": "display_data"
    }
   ],
   "source": [
    "# Show distribution of timepoints per subject by cohorts\n",
    "\n",
    "fig, ax = plt.subplots(4, 1, figsize=(12,8), sharex=True, gridspec_kw={'wspace':0.025, 'hspace':0})\n",
    "\n",
    "cohort_i = 0\n",
    "for cohort in mi_cohorts:\n",
    "    timepoints = timepoints_by_cohort[cohort]\n",
    "    subject_ids = subject_ids_by_cohort[cohort]\n",
    "    ax[cohort_i].set_yticks([])\n",
    "    ax[cohort_i].set_xticks([0, 3, 7, 14, 30.5, 61])\n",
    "    # ax[cohort_i].set_xticklabels(['Birth\\n(meconium)'])\n",
    "    ax[cohort_i].plot(timepoints, subject_ids, '.')\n",
    "    \n",
    "    cohort_i += 1\n",
    "\n",
    "plt.show()"
   ]
  },
  {
   "cell_type": "code",
   "execution_count": 14,
   "metadata": {},
   "outputs": [
    {
     "data": {
      "image/png": "[encoded data removed]",
      "text/plain": [
       "<Figure size 1008x172.8 with 4 Axes>"
      ]
     },
     "metadata": {},
     "output_type": "display_data"
    }
   ],
   "source": [
    "# Show timepoints by cohort\n",
    "fig, ax = plt.subplots(4, 1, figsize=(14,2.4), gridspec_kw={'wspace':0.025, 'hspace':0})\n",
    "\n",
    "mi_cohort_labels = []\n",
    "\n",
    "cohort_i = 0\n",
    "for cohort in mi_cohorts:\n",
    "    custom_bin_idxs = []\n",
    "    for custom_bin in set(custom_bins_by_cohort[cohort]):\n",
    "        custom_bin_idxs.append(custom_bins.index(custom_bin))\n",
    "    ax[cohort_i].set_xlim((-0.5, len(custom_bins)-0.5))\n",
    "    ax[cohort_i].plot(custom_bin_idxs, [cohort_i]*len(custom_bin_idxs), 'o', markersize=14)    \n",
    "    ax[cohort_i].set_yticks([cohort_i])\n",
    "    ax[cohort_i].set_yticklabels([cohort.capitalize()], fontsize=14)\n",
    "    ax[cohort_i].set_xticks([])\n",
    "    for x in np.arange(0.5, len(custom_bins), step=1):\n",
    "        ax[cohort_i].axvline(x=x)\n",
    "    cohort_i += 1\n",
    "\n",
    "ax[0].set_xticks(np.arange(len(custom_bins)))\n",
    "ax[0].set_xticklabels(custom_bins)\n",
    "ax[0].xaxis.tick_top()\n",
    "\n",
    "plt.tick_params(top=False)\n",
    "fig.savefig('%s/cohort_timepoints_v1.pdf' % (config.analysis_directory),bbox_inches='tight')\n",
    "plt.show()"
   ]
  },
  {
   "cell_type": "code",
   "execution_count": 15,
   "metadata": {},
   "outputs": [
    {
     "data": {
      "image/png": "[encoded data removed]",
      "text/plain": [
       "<Figure size 1008x172.8 with 4 Axes>"
      ]
     },
     "metadata": {},
     "output_type": "display_data"
    }
   ],
   "source": [
    "# Alternate: include numbers of samples per timepoint-cohort pair\n",
    "fig, ax = plt.subplots(4, 1, figsize=(14,2.4), gridspec_kw={'wspace':0.025, 'hspace':0})\n",
    "\n",
    "mi_cohort_labels = []\n",
    "for cohort in mi_cohorts:\n",
    "    mi_cohort_labels.append('%s\\n%i subjects')\n",
    "\n",
    "cohort_i = 0\n",
    "for cohort in mi_cohorts:\n",
    "    custom_bin_idxs = []\n",
    "    for custom_bin in set(custom_bins_by_cohort[cohort]):\n",
    "        custom_bin_idxs.append(custom_bins.index(custom_bin))\n",
    "    ax[cohort_i].set_xlim((-0.5, len(custom_bins)-0.5))\n",
    "    for custom_bin_idx in custom_bin_idxs:\n",
    "        custom_bin = custom_bins[custom_bin_idx]        \n",
    "        ax[cohort_i].text(custom_bin_idx, 0.5, 'n=%i' % (custom_bins_by_cohort[cohort].count(custom_bin)), \n",
    "                          ha='center', va='center', fontsize=12)\n",
    "    ax[cohort_i].set_yticks([0.5])\n",
    "    ax[cohort_i].set_yticklabels([cohort.capitalize()], fontsize=14)\n",
    "    ax[cohort_i].set_xticks([])\n",
    "    for x in np.arange(0.5, len(custom_bins), step=1):\n",
    "        ax[cohort_i].axvline(x=x)\n",
    "    cohort_i += 1\n",
    "\n",
    "ax[0].set_xticks(np.arange(len(custom_bins)))\n",
    "ax[0].set_xticklabels(custom_bins)\n",
    "ax[0].xaxis.tick_top()\n",
    "\n",
    "plt.tick_params(top=False)\n",
    "fig.savefig('%s/cohort_timepoints_v2.pdf' % (config.analysis_directory),bbox_inches='tight')\n",
    "plt.show()"
   ]
  }
 ],
 "metadata": {
  "kernelspec": {
   "display_name": "Python 2.7.15",
   "language": "python2",
   "name": "python2"
  },
  "language_info": {
   "codemirror_mode": {
    "name": "ipython",
    "version": 2
   },
   "file_extension": ".py",
   "mimetype": "text/x-python",
   "name": "python",
   "nbconvert_exporter": "python",
   "pygments_lexer": "ipython2",
   "version": "2.7.15"
  }
 },
 "nbformat": 4,
 "nbformat_minor": 2
}
