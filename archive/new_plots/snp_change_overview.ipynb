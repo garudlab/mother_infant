{
 "cells": [
  {
   "cell_type": "code",
   "execution_count": 11,
   "metadata": {
    "collapsed": true
   },
   "outputs": [],
   "source": [
    "from collections import defaultdict\n",
    "import pickle"
   ]
  },
  {
   "cell_type": "code",
   "execution_count": 2,
   "metadata": {
    "collapsed": true
   },
   "outputs": [],
   "source": [
    "import config"
   ]
  },
  {
   "cell_type": "code",
   "execution_count": 8,
   "metadata": {
    "collapsed": false
   },
   "outputs": [],
   "source": [
    "from utils import sample_utils as su"
   ]
  },
  {
   "cell_type": "code",
   "execution_count": 3,
   "metadata": {
    "collapsed": true
   },
   "outputs": [],
   "source": [
    "data_dir = config.data_directory\n",
    "pickle_dir = '%s/pickles/' % data_dir"
   ]
  },
  {
   "cell_type": "code",
   "execution_count": 4,
   "metadata": {
    "collapsed": true
   },
   "outputs": [],
   "source": [
    "fpath = '%s/species_subject_snp_change_sites_full.pkl' % pickle_dir\n",
    "species_subject_snp_change_sites_full = pickle.load(open(fpath, 'rb'))"
   ]
  },
  {
   "cell_type": "code",
   "execution_count": 5,
   "metadata": {
    "collapsed": true
   },
   "outputs": [],
   "source": [
    "fpath = '%s/species_tp_pair_snp_change_sites_full.pkl' % pickle_dir\n",
    "species_tp_pair_snp_change_sites_full = pickle.load(open(fpath, 'rb'))"
   ]
  },
  {
   "cell_type": "code",
   "execution_count": 9,
   "metadata": {
    "collapsed": true
   },
   "outputs": [],
   "source": [
    "subject_sample_map = su.parse_subject_sample_map()\n",
    "sample_order_map = su.parse_sample_order_map()\n",
    "sample_subject_map = su.parse_sample_subject_map()"
   ]
  },
  {
   "cell_type": "code",
   "execution_count": 17,
   "metadata": {
    "collapsed": false
   },
   "outputs": [],
   "source": [
    "total_mod_sites = 0\n",
    "total_mod_events = 0\n",
    "\n",
    "for species in species_tp_pair_snp_change_sites_full:\n",
    "        for tp_pair in species_tp_pair_snp_change_sites_full[species]:\n",
    "            total_mod_events += 1\n",
    "            total_mod_sites += len(species_tp_pair_snp_change_sites_full[species][tp_pair])"
   ]
  },
  {
   "cell_type": "code",
   "execution_count": 21,
   "metadata": {
    "collapsed": false
   },
   "outputs": [
    {
     "data": {
      "text/plain": [
       "1282"
      ]
     },
     "execution_count": 21,
     "metadata": {},
     "output_type": "execute_result"
    }
   ],
   "source": [
    "total_mod_sites"
   ]
  },
  {
   "cell_type": "code",
   "execution_count": 20,
   "metadata": {
    "collapsed": false
   },
   "outputs": [
    {
     "data": {
      "text/plain": [
       "307"
      ]
     },
     "execution_count": 20,
     "metadata": {},
     "output_type": "execute_result"
    }
   ],
   "source": [
    "total_mod_events"
   ]
  },
  {
   "cell_type": "code",
   "execution_count": 22,
   "metadata": {
    "collapsed": false
   },
   "outputs": [],
   "source": [
    "total_mod_sites = 0\n",
    "total_subjects = set()\n",
    "species_num_snp_mods = defaultdict(int)\n",
    "\n",
    "for species in species_subject_snp_change_sites_full:\n",
    "    for subject in species_subject_snp_change_sites_full[species]:\n",
    "        mod_sites = species_subject_snp_change_sites_full[species][subject]\n",
    "        species_num_snp_mods[species] += len(mod_sites)\n",
    "        total_mod_sites += len(mod_sites)\n",
    "        total_subjects.add(subject)"
   ]
  },
  {
   "cell_type": "code",
   "execution_count": 24,
   "metadata": {
    "collapsed": false
   },
   "outputs": [
    {
     "data": {
      "text/plain": [
       "221"
      ]
     },
     "execution_count": 24,
     "metadata": {},
     "output_type": "execute_result"
    }
   ],
   "source": [
    "len(total_subjects)"
   ]
  },
  {
   "cell_type": "code",
   "execution_count": 13,
   "metadata": {
    "collapsed": false
   },
   "outputs": [
    {
     "data": {
      "text/plain": [
       "defaultdict(int,\n",
       "            {'Akkermansia_muciniphila_55290': 38,\n",
       "             'Alistipes_finegoldii_56071': 33,\n",
       "             'Alistipes_onderdonkii_55464': 20,\n",
       "             'Alistipes_putredinis_61533': 60,\n",
       "             'Bacteroides_caccae_53434': 12,\n",
       "             'Bacteroides_cellulosilyticus_58046': 3,\n",
       "             'Bacteroides_coprocola_61586': 2,\n",
       "             'Bacteroides_eggerthii_54457': 2,\n",
       "             'Bacteroides_faecis_58503': 4,\n",
       "             'Bacteroides_fragilis_54507': 60,\n",
       "             'Bacteroides_fragilis_56548': 2,\n",
       "             'Bacteroides_intestinalis_61596': 1,\n",
       "             'Bacteroides_massiliensis_44749': 8,\n",
       "             'Bacteroides_ovatus_58035': 19,\n",
       "             'Bacteroides_plebeius_61623': 6,\n",
       "             'Bacteroides_stercoris_56735': 27,\n",
       "             'Bacteroides_thetaiotaomicron_56941': 16,\n",
       "             'Bacteroides_uniformis_57318': 43,\n",
       "             'Bacteroides_vulgatus_57955': 134,\n",
       "             'Bacteroides_xylanisolvens_57185': 3,\n",
       "             'Barnesiella_intestinihominis_62208': 3,\n",
       "             'Bifidobacterium_adolescentis_56815': 25,\n",
       "             'Bifidobacterium_bifidum_55065': 111,\n",
       "             'Bifidobacterium_breve_57133': 16,\n",
       "             'Bifidobacterium_catenulatum_58257': 2,\n",
       "             'Bifidobacterium_dentium_55719': 2,\n",
       "             'Bifidobacterium_longum_57796': 155,\n",
       "             'Bifidobacterium_pseudocatenulatum_57754': 1,\n",
       "             'Blautia_wexlerae_56130': 5,\n",
       "             'Citrobacter_braakii_56022': 2,\n",
       "             'Citrobacter_freundii_56148': 5,\n",
       "             'Clostridium_butyricum_56361': 5,\n",
       "             'Clostridium_difficile_57608': 1,\n",
       "             'Clostridium_perfringens_56840': 10,\n",
       "             'Clostridium_sp_61556': 1,\n",
       "             'Dialister_invisus_61905': 33,\n",
       "             'Enterobacter_aerogenes_55704': 8,\n",
       "             'Enterobacter_cloacae_57303': 4,\n",
       "             'Enterobacter_cloacae_58148': 1,\n",
       "             'Enterococcus_faecalis_56297': 115,\n",
       "             'Enterococcus_faecium_56710': 1,\n",
       "             'Enterococcus_faecium_56947': 6,\n",
       "             'Enterococcus_hirae_55131': 1,\n",
       "             'Eubacterium_eligens_61678': 1,\n",
       "             'Eubacterium_rectale_56927': 74,\n",
       "             'Eubacterium_siraeum_57634': 13,\n",
       "             'Faecalibacterium_prausnitzii_57453': 20,\n",
       "             'Klebsiella_oxytoca_54123': 4,\n",
       "             'Klebsiella_pneumoniae_54688': 1,\n",
       "             'Klebsiella_pneumoniae_54788': 8,\n",
       "             'Lactobacillus_rhamnosus_57549': 4,\n",
       "             'Negativicoccus_succinicivorans_57482': 3,\n",
       "             'Odoribacter_laneus_62216': 4,\n",
       "             'Oscillibacter_sp_60799': 1,\n",
       "             'Parabacteroides_distasonis_56985': 18,\n",
       "             'Parabacteroides_merdae_56972': 14,\n",
       "             'Phascolarctobacterium_sp_59817': 4,\n",
       "             'Proteus_mirabilis_55046': 2,\n",
       "             'Ruminococcus_bicirculans_59300': 25,\n",
       "             'Ruminococcus_bromii_62047': 7,\n",
       "             'Ruminococcus_gnavus_57638': 4,\n",
       "             'Staphylococcus_aureus_56630': 14,\n",
       "             'Staphylococcus_epidermidis_57523': 36,\n",
       "             'Sutterella_wadsworthensis_56828': 1,\n",
       "             'Veillonella_dispar_61763': 1,\n",
       "             'Veillonella_ratti_62429': 16,\n",
       "             'Veillonella_sp_62404': 1})"
      ]
     },
     "execution_count": 13,
     "metadata": {},
     "output_type": "execute_result"
    }
   ],
   "source": [
    "species_num_snp_mods"
   ]
  }
 ],
 "metadata": {
  "kernelspec": {
   "display_name": "Python 2",
   "language": "python",
   "name": "python2"
  },
  "language_info": {
   "codemirror_mode": {
    "name": "ipython",
    "version": 2
   },
   "file_extension": ".py",
   "mimetype": "text/x-python",
   "name": "python",
   "nbconvert_exporter": "python",
   "pygments_lexer": "ipython2",
   "version": "2.7.13"
  }
 },
 "nbformat": 4,
 "nbformat_minor": 2
}
