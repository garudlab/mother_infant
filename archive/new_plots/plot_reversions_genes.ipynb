{
 "cells": [
  {
   "cell_type": "code",
   "execution_count": 1,
   "metadata": {
    "collapsed": true,
    "deletable": true,
    "editable": true
   },
   "outputs": [],
   "source": [
    "from utils import config, sample_utils as su\n",
    "from utils import parse_midas_data, parse_patric, core_gene_utils, midas_db_utils\n",
    "import numpy as np, pickle, sys\n",
    "from numpy.random import choice\n",
    "from collections import defaultdict\n",
    "\n",
    "from matplotlib import pyplot as plt\n",
    "from matplotlib.lines import Line2D\n",
    "from matplotlib.patches import Patch"
   ]
  },
  {
   "cell_type": "code",
   "execution_count": 2,
   "metadata": {
    "collapsed": false,
    "deletable": true,
    "editable": true
   },
   "outputs": [],
   "source": [
    "plot_dir = \"%s/revs_genes/\" % (config.analysis_directory)\n",
    "ddir = config.data_directory\n",
    "pdir = \"%s/pickles\" % ddir\n",
    "sweep_type = 'full'\n",
    "snp_modifications_by_site = pickle.load(open('%s/snp_modifications_by_site_%s.pkl' % (pdir, sweep_type), 'rb'))\n",
    "snp_modification_genes = pickle.load(open('%s/snp_modification_genes_%s.pkl' % (pdir, sweep_type), 'rb'))"
   ]
  },
  {
   "cell_type": "code",
   "execution_count": 3,
   "metadata": {
    "collapsed": true,
    "deletable": true,
    "editable": true
   },
   "outputs": [],
   "source": [
    "# Returns two arrays, one of ordered timepoints\n",
    "# and other of corresponding values\n",
    "def order_by_tp(tp_dict):\n",
    "    items = tp_dict.items()\n",
    "    mother_items = filter(lambda x: x[0][0] == 'M', items)\n",
    "    mother_sorted = sorted(mother_items, key=lambda x: int(x[0][1:]))\n",
    "    infant_items = filter(lambda x: x[0][0] == 'I', items)\n",
    "    infant_sorted = sorted(infant_items, key=lambda x: int(x[0][1:]))\n",
    "    comb_sorted = mother_sorted + infant_sorted\n",
    "    return comb_sorted if comb_sorted != [] else sorted(items, key=lambda x: int(x[0][1:]))"
   ]
  },
  {
   "cell_type": "code",
   "execution_count": 4,
   "metadata": {
    "collapsed": true,
    "deletable": true,
    "editable": true
   },
   "outputs": [],
   "source": [
    "# Returns True if one value is below lower_threshold\n",
    "# and the other value is above upper_threshold\n",
    "def is_diff(val1, val2, lower_threshold, upper_threshold):\n",
    "    return (val1 <= lower_threshold and val2 >= upper_threshold) or (val1 >= upper_threshold and val2 <= lower_threshold)"
   ]
  },
  {
   "cell_type": "code",
   "execution_count": 5,
   "metadata": {
    "collapsed": false,
    "deletable": true,
    "editable": true
   },
   "outputs": [],
   "source": [
    "# Determines if list of values has reversion\n",
    "def has_reversion(vals, lower_threshold, upper_threshold):\n",
    "    ref_val = vals[0]\n",
    "    one_change = False\n",
    "    for val in vals[1:]:\n",
    "        # While first change has yet to occur\n",
    "        if one_change == False:\n",
    "            if is_diff(val, ref_val, lower_threshold, upper_threshold):\n",
    "                # If first change detected, set ref_val to new value\n",
    "                # and set one_change to True\n",
    "                ref_val = val\n",
    "                one_change = True\n",
    "        # First change has already occurred with ref_val reset\n",
    "        elif one_change == True:\n",
    "            if is_diff(val, ref_val, lower_threshold, upper_threshold):\n",
    "                # Second change (must be in opp. direction) detected\n",
    "                return True\n",
    "    return False"
   ]
  },
  {
   "cell_type": "code",
   "execution_count": 9,
   "metadata": {
    "collapsed": false,
    "deletable": true,
    "editable": true
   },
   "outputs": [],
   "source": [
    "reversions = []\n",
    "lower_threshold = 0.2\n",
    "upper_threshold = 0.8\n",
    "\n",
    "# Enumerate reversions\n",
    "for species in snp_modifications_by_site:\n",
    "    \n",
    "    # Also prepare gene information\n",
    "    if sum([len(snp_modifications_by_site[species][cohort].keys()) for cohort in snp_modifications_by_site[species]]) != 0:\n",
    "        print(\"Getting gene info for %s...\" % species)\n",
    "        genome_ids = midas_db_utils.get_ref_genome_ids(species)\n",
    "        non_shared_genes = core_gene_utils.parse_non_shared_pangenome_genes(species)\n",
    "        gene_desc = parse_patric.load_patric_gene_descriptions(genome_ids, non_shared_genes)\n",
    "    \n",
    "    for cohort in snp_modifications_by_site[species]:\n",
    "        subdict = snp_modifications_by_site[species][cohort]\n",
    "        for subject in subdict:\n",
    "            for site in subdict[subject]:\n",
    "                if len(subdict[subject][site]) > 1:\n",
    "                    tp_freq_dict = {} # freq info only\n",
    "                    for snp_change in subdict[subject][site]:\n",
    "                        tp_pair, gene_id, var_type, A1, D1, A2, D2 = snp_change\n",
    "                        tp1, tp2 = tp_pair\n",
    "                        tp_freq_dict[tp1] = (A1/float(D1))\n",
    "                        tp_freq_dict[tp2] = (A2/float(D2))\n",
    "                    ordered_tp_freqs = order_by_tp(tp_freq_dict)\n",
    "                    gene_name = gene_desc[gene_id] if gene_id in gene_desc else 'No name'\n",
    "                    if has_reversion([freq for tp, freq in ordered_tp_freqs], lower_threshold, upper_threshold):\n",
    "                        reversions.append((species, cohort, subject, site, gene_id, gene_name, var_type, ordered_tp_freqs))"
   ]
  },
  {
   "cell_type": "code",
   "execution_count": 18,
   "metadata": {
    "collapsed": true,
    "deletable": true,
    "editable": true
   },
   "outputs": [],
   "source": [
    "all_subjects = set()\n",
    "# Enumerate reversions\n",
    "for species in snp_modifications_by_site:\n",
    "    for cohort in snp_modifications_by_site[species]:\n",
    "        subdict = snp_modifications_by_site[species][cohort]\n",
    "        for subject in subdict:\n",
    "            all_subjects.add(subject)"
   ]
  },
  {
   "cell_type": "code",
   "execution_count": 21,
   "metadata": {
    "collapsed": false,
    "deletable": true,
    "editable": true
   },
   "outputs": [],
   "source": [
    "subjects = set()\n",
    "for species, cohort, subject, site, gene_id, gene_name, var_type, ordered_tp_freqs in reversions:\n",
    "    subjects.add(subject)"
   ]
  },
  {
   "cell_type": "code",
   "execution_count": 22,
   "metadata": {
    "collapsed": false,
    "deletable": true,
    "editable": true
   },
   "outputs": [
    {
     "data": {
      "text/plain": [
       "{'M0808-M', 'M1098-M', 'N1_009', 'N1_011', 'N1_018', 'N1_023', 'N4_097'}"
      ]
     },
     "execution_count": 22,
     "metadata": {},
     "output_type": "execute_result"
    }
   ],
   "source": [
    "subjects"
   ]
  },
  {
   "cell_type": "code",
   "execution_count": null,
   "metadata": {
    "collapsed": true,
    "deletable": true,
    "editable": true
   },
   "outputs": [],
   "source": [
    "cohorts = ['backhed', 'ferretti', 'yassour', 'shao', 'olm', 'hmp']\n",
    "\n",
    "genes_species = {cohort: defaultdict(list) for cohort in cohorts}\n",
    "genes_tp_pairs = {cohort: defaultdict(list) for cohort in cohorts}\n",
    "\n",
    "# Enumerate genes\n",
    "for species in snp_modification_genes:\n",
    "    \n",
    "    if sum([len(snp_modification_genes[species][cohort].keys()) for cohort in snp_modification_genes[species]]) != 0:\n",
    "        print(\"Getting gene info for %s...\" % species)\n",
    "        genome_ids = midas_db_utils.get_ref_genome_ids(species)\n",
    "        non_shared_genes = core_gene_utils.parse_non_shared_pangenome_genes(species)\n",
    "        gene_desc = parse_patric.load_patric_gene_descriptions(genome_ids, non_shared_genes)\n",
    "    \n",
    "    for cohort in snp_modification_genes[species]:\n",
    "        subdict = snp_modification_genes[species][cohort]\n",
    "        \n",
    "        for tp_pair in subdict:\n",
    "            for gene_id in subdict[tp_pair].keys():\n",
    "                gene_name = gene_desc[gene_id] if gene_id in gene_desc else 'No name'\n",
    "                genes_species[cohort][(gene_id, gene_name)].append(species)\n",
    "                genes_tp_pairs[cohort][(gene_id, gene_name)].append(tp_pair)"
   ]
  },
  {
   "cell_type": "code",
   "execution_count": null,
   "metadata": {
    "collapsed": true
   },
   "outputs": [],
   "source": [
    "genes_cohort = {cohort: set() for cohort in cohorts}\n",
    "\n",
    "for cohort in genes_tp_pairs:\n",
    "    for gene_tuple in genes_tp_pairs[cohort]:\n",
    "        for tp_pair in genes_tp_pairs[cohort][gene_tuple]:\n",
    "            tpa, tpb = tp_pair\n",
    "            tp_type = tpa[0] + tpb[0]\n",
    "            if tp_type == 'II':\n",
    "                genes_cohort[cohort].add(gene_tuple)"
   ]
  },
  {
   "cell_type": "code",
   "execution_count": 11,
   "metadata": {
    "collapsed": false,
    "deletable": true,
    "editable": true
   },
   "outputs": [
    {
     "name": "stdout",
     "output_type": "stream",
     "text": [
      "Enterococcus_faecalis_56297 | olm | Subject: N1_018\n",
      "Gene id: 1158976.3.peg.771 | Variant type: 4D\n",
      "Gene name: hypothetical protein\n",
      "\tI18: 0.826\n",
      "\tI19: 0.074\n",
      "\tI20: 0.074\n",
      "\tI24: 0.801\n",
      "\tI37: 0.118\n",
      "\n",
      "Klebsiella_pneumoniae_54788 | olm | Subject: N1_023\n",
      "Gene id: 1328400.3.peg.232 | Variant type: 1D\n",
      "Gene name: No name\n",
      "\tI15: 0.026\n",
      "\tI17: 0.897\n",
      "\tI18: 0.818\n",
      "\tI19: 0.088\n",
      "\tI21: 0.911\n",
      "\tI29: 0.172\n",
      "\n",
      "Citrobacter_freundii_56148 | olm | Subject: N1_009\n",
      "Gene id: 1114920.3.peg.2929 | Variant type: 4D\n",
      "Gene name: Phosphoenolpyruvate-dihydroxyacetone phosphotransferase operon regulatory protein DhaR\n",
      "\tI10: 0.870\n",
      "\tI13: 0.164\n",
      "\tI15: 0.091\n",
      "\tI16: 0.191\n",
      "\tI17: 0.944\n",
      "\n",
      "Bacteroides_vulgatus_57955 | olm | Subject: N4_097\n",
      "Gene id: 435590.9.peg.1561 | Variant type: 4D\n",
      "Gene name: Uncharacterized protein BT3327\n",
      "\tI12: 0.112\n",
      "\tI27: 0.826\n",
      "\tI34: 0.115\n",
      "\n",
      "Bacteroides_vulgatus_57955 | yassour | Subject: M1098-M\n",
      "Gene id: 435590.9.peg.52 | Variant type: 1D\n",
      "Gene name: DNA internalization-related competence protein ComEC/Rec2\n",
      "\tM1: 1.000\n",
      "\tI2: 0.176\n",
      "\tI3: 0.176\n",
      "\tI4: 1.000\n",
      "\tI5: 0.962\n",
      "\n",
      "Bacteroides_vulgatus_57955 | yassour | Subject: M1098-M\n",
      "Gene id: 435590.9.peg.543 | Variant type: 2D\n",
      "Gene name: Translation elongation factor P\n",
      "\tM1: 0.979\n",
      "\tI2: 0.154\n",
      "\tI3: 0.154\n",
      "\tI4: 1.000\n",
      "\tI5: 1.000\n",
      "\n",
      "Bacteroides_vulgatus_57955 | yassour | Subject: M0808-M\n",
      "Gene id: 435590.9.peg.47 | Variant type: 4D\n",
      "Gene name: Keratan-sulfate endo-1,4-beta-galactosidase (EC 3.2.1.103)\n",
      "\tM1: 0.000\n",
      "\tM2: 0.885\n",
      "\tM3: 0.885\n",
      "\tI4: 0.094\n",
      "\n",
      "Bacteroides_vulgatus_57955 | yassour | Subject: M0808-M\n",
      "Gene id: 435590.9.peg.1738 | Variant type: 1D\n",
      "Gene name: Transcriptional regulator, AraC family\n",
      "\tM1: 0.000\n",
      "\tM2: 0.941\n",
      "\tM3: 0.941\n",
      "\tI4: 0.020\n",
      "\n",
      "Bacteroides_vulgatus_57955 | yassour | Subject: M0808-M\n",
      "Gene id: 435590.9.peg.2142 | Variant type: 2D\n",
      "Gene name: ATP-dependent DNA helicase RecS (RecQ family)\n",
      "\tM1: 0.011\n",
      "\tM2: 0.964\n",
      "\tM3: 0.964\n",
      "\tI4: 0.022\n",
      "\n",
      "Bacteroides_vulgatus_57955 | yassour | Subject: M0808-M\n",
      "Gene id: 435590.9.peg.2509 | Variant type: 4D\n",
      "Gene name: Outer membrane TonB-dependent transporter, utilization system for glycans and polysaccharides (PUL), SusC family\n",
      "\tM1: 0.000\n",
      "\tM2: 0.919\n",
      "\tM3: 0.919\n",
      "\tI4: 0.000\n",
      "\n",
      "Enterobacter_aerogenes_55704 | olm | Subject: N1_011\n",
      "Gene id: 1400143.3.peg.1706 | Variant type: 2D\n",
      "Gene name: Anaerobic dimethyl sulfoxide reductase chain B (EC 1.8.5.3), iron-sulfur binding subunit\n",
      "\tI11: 0.164\n",
      "\tI13: 0.958\n",
      "\tI15: 0.146\n",
      "\tI20: 0.976\n",
      "\tI21: 0.095\n",
      "\tI23: 0.980\n",
      "\tI33: 0.877\n",
      "\tI37: 0.936\n",
      "\tI46: 0.097\n",
      "\tI62: 0.140\n",
      "\tI69: 0.859\n",
      "\n"
     ]
    }
   ],
   "source": [
    "# Formatted printing of reversions\n",
    "for species, cohort, subject, site, gene_id, gene_name, var_type, ordered_tp_freqs in reversions:\n",
    "    \n",
    "    print(species + ' | ' + cohort + ' | Subject: ' + subject)\n",
    "    print(\"Gene id: \" + gene_id + ' | Variant type: ' + var_type)\n",
    "    print(\"Gene name: \" + gene_name)\n",
    "    for tp, freq in ordered_tp_freqs:\n",
    "        print('\\t' + tp + ': %.03f' % freq)\n",
    "    print('')"
   ]
  }
 ],
 "metadata": {
  "kernelspec": {
   "display_name": "Python 2",
   "language": "python",
   "name": "python2"
  },
  "language_info": {
   "codemirror_mode": {
    "name": "ipython",
    "version": 2
   },
   "file_extension": ".py",
   "mimetype": "text/x-python",
   "name": "python",
   "nbconvert_exporter": "python",
   "pygments_lexer": "ipython2",
   "version": "2.7.13"
  }
 },
 "nbformat": 4,
 "nbformat_minor": 2
}
