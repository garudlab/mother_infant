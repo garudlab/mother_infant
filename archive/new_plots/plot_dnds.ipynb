{
 "cells": [
  {
   "cell_type": "code",
   "execution_count": 1,
   "metadata": {
    "collapsed": false,
    "deletable": true,
    "editable": true
   },
   "outputs": [],
   "source": [
    "from utils import snps_utils, sample_utils as su, config, parse_midas_data\n",
    "from collections import defaultdict\n",
    "import sys\n",
    "import numpy\n",
    "\n",
    "import pickle\n",
    "ddir = config.data_directory\n",
    "pdir = \"%s/pickles/dnds\" % ddir\n",
    "\n",
    "host_pair_types = ['within', 'between']\n",
    "hp_type = 'between'\n",
    "\n",
    "syn_differences = pickle.load(open(\"%s/%s_syn_differences.pkl\" % (pdir, hp_type), 'rb'))\n",
    "syn_opportunities = pickle.load(open(\"%s/%s_syn_opportunities.pkl\" % (pdir, hp_type), 'rb'))\n",
    "syn_pseudocounts = pickle.load(open(\"%s/%s_syn_pseudocounts.pkl\" % (pdir, hp_type), 'rb'))\n",
    "non_differences = pickle.load(open(\"%s/%s_non_differences.pkl\" % (pdir, hp_type), 'rb'))\n",
    "non_pseudocounts = pickle.load(open(\"%s/%s_non_pseudocounts.pkl\" % (pdir, hp_type), 'rb'))\n",
    "non_opportunities = pickle.load(open(\"%s/%s_non_opportunities.pkl\" % (pdir, hp_type), 'rb'))"
   ]
  },
  {
   "cell_type": "code",
   "execution_count": 13,
   "metadata": {
    "collapsed": false,
    "deletable": true,
    "editable": true
   },
   "outputs": [],
   "source": [
    "for tp_pair in syn_opportunities:    \n",
    "    try:\n",
    "        tpa, tpb = tp_pair\n",
    "    except:\n",
    "        continue # Weirdness\n",
    "    \n",
    "    tp_type = tpa[0] + tpb[0]\n",
    "    if tp_type == 'IM':\n",
    "        tp_type = 'MI'\n",
    "    \n",
    "    for species in syn_opportunities[tp_pair]:\n",
    "        sdiffs = syn_differences[tp_pair][species]\n",
    "        sopps = syn_opportunities[tp_pair][species]\n",
    "        ndiffs = non_differences[tp_pair][species]\n",
    "        nopps = non_opportunities[tp_pair][species]\n",
    "    \n",
    "    # Dunno what I'm doing here"
   ]
  },
  {
   "cell_type": "code",
   "execution_count": 2,
   "metadata": {
    "collapsed": false,
    "deletable": true,
    "editable": true
   },
   "outputs": [
    {
     "name": "stderr",
     "output_type": "stream",
     "text": [
      "/u/local/apps/python/2.7.13/lib/python2.7/site-packages/matplotlib/cbook/deprecation.py:107: MatplotlibDeprecationWarning: The mpl_toolkits.axes_grid module was deprecated in version 2.1. Use mpl_toolkits.axes_grid1 and mpl_toolkits.axisartist provies the same functionality instead.\n",
      "  warnings.warn(message, mplDeprecation, stacklevel=1)\n"
     ]
    }
   ],
   "source": [
    "import matplotlib\n",
    "matplotlib.use('Agg')\n",
    "import matplotlib.colors as colors\n",
    "import matplotlib.cm as cmx\n",
    "from math import log10,ceil\n",
    "import matplotlib as mpl\n",
    "import matplotlib.pyplot as plt\n",
    "import matplotlib.gridspec as gridspec\n",
    "from numpy.random import randint\n",
    "from mpl_toolkits.axes_grid.inset_locator import inset_axes\n",
    "import pylab\n",
    "\n",
    "from numpy.random import randint, binomial, choice, poisson\n",
    "from scipy.stats import poisson as poisson_distribution"
   ]
  },
  {
   "cell_type": "code",
   "execution_count": 3,
   "metadata": {
    "collapsed": false,
    "deletable": true,
    "editable": true
   },
   "outputs": [
    {
     "name": "stderr",
     "output_type": "stream",
     "text": [
      "/u/local/apps/python/2.7.13/lib/python2.7/site-packages/matplotlib/axes/_base.py:3471: UserWarning: Attempting to set identical bottom==top results\n",
      "in singular transformations; automatically expanding.\n",
      "bottom=1.0, top=1.0\n",
      "  'bottom=%s, top=%s') % (bottom, top))\n"
     ]
    }
   ],
   "source": [
    "pylab.figure(1,figsize=(5, 3))\n",
    "fig = pylab.gcf()\n",
    "outer_grid\t= gridspec.GridSpec(1,1)\n",
    "\n",
    "pylab.figure(2,figsize=(5, 3))\n",
    "fig2 = pylab.gcf()\n",
    "outer_grid2\t = gridspec.GridSpec(1,1)\n",
    "\n",
    "haploid_color = '#08519c'\n",
    "\n",
    "divergence_axis = plt.Subplot(fig, outer_grid[0])\n",
    "fig.add_subplot(divergence_axis)\n",
    "\n",
    "divergence_axis.set_ylabel('Nonsynonymous ratio, $d_N/d_S$')\n",
    "divergence_axis.set_xlabel('Synonymous divergence, $d_S$')\n",
    "\n",
    "divergence_axis.spines['top'].set_visible(False)\n",
    "divergence_axis.spines['right'].set_visible(False)\n",
    "divergence_axis.get_xaxis().tick_bottom()\n",
    "divergence_axis.get_yaxis().tick_left()\n",
    "\n",
    "divergence_axis.set_ylabel('Nonsynonymous ratio, $d_N/d_S$')\n",
    "divergence_axis.set_xlabel('Synonymous divergence, $d_S$')\n",
    "\n",
    "divergence_axis.spines['top'].set_visible(False)\n",
    "divergence_axis.spines['right'].set_visible(False)\n",
    "divergence_axis.get_xaxis().tick_bottom()\n",
    "divergence_axis.get_yaxis().tick_left()\n",
    "\n",
    "cumulative_axis = inset_axes(divergence_axis, width=\"25%\", height=\"25%\", borderpad=0, bbox_to_anchor=(-0.01,0,1, 1), bbox_transform=divergence_axis.transAxes)\n",
    "\n",
    "cumulative_axis.spines['top'].set_visible(False)\n",
    "cumulative_axis.spines['right'].set_visible(False)\n",
    "cumulative_axis.get_xaxis().tick_bottom()\n",
    "cumulative_axis.get_yaxis().tick_left()\n",
    "\n",
    "cumulative_axis.set_ylabel('Cumulative $d_N/d_S$')\n",
    "cumulative_axis.set_xlabel('Synonymous divergence, $d_S$')\n",
    "\n",
    "line, = cumulative_axis.loglog([1e-05,1e-02],[1,1],'k:',linewidth=0.25,zorder=1)\n",
    "line.set_dashes((1,1))"
   ]
  },
  {
   "cell_type": "code",
   "execution_count": 4,
   "metadata": {
    "collapsed": true,
    "deletable": true,
    "editable": true
   },
   "outputs": [],
   "source": [
    "species_names = set()\n",
    "for tp_pair in syn_differences:\n",
    "    for species_name in syn_differences[tp_pair]:\n",
    "        species_names.add(species_name)\n",
    "\n",
    "species_names = list(species_names)"
   ]
  },
  {
   "cell_type": "code",
   "execution_count": 5,
   "metadata": {
    "collapsed": false,
    "deletable": true,
    "editable": true
   },
   "outputs": [
    {
     "ename": "NameError",
     "evalue": "name 'pS2s' is not defined",
     "output_type": "error",
     "traceback": [
      "\u001b[0;31m\u001b[0m",
      "\u001b[0;31mNameError\u001b[0mTraceback (most recent call last)",
      "\u001b[0;32m<ipython-input-5-e57c290a20d8>\u001b[0m in \u001b[0;36m<module>\u001b[0;34m()\u001b[0m\n\u001b[1;32m     43\u001b[0m         \u001b[0mbad_idxs\u001b[0m \u001b[0;34m=\u001b[0m \u001b[0mnumpy\u001b[0m\u001b[0;34m.\u001b[0m\u001b[0mlogical_not\u001b[0m\u001b[0;34m(\u001b[0m\u001b[0mgood_idxs\u001b[0m\u001b[0;34m)\u001b[0m\u001b[0;34m\u001b[0m\u001b[0m\n\u001b[1;32m     44\u001b[0m \u001b[0;34m\u001b[0m\u001b[0m\n\u001b[0;32m---> 45\u001b[0;31m         \u001b[0mdivergence_axis\u001b[0m\u001b[0;34m.\u001b[0m\u001b[0mloglog\u001b[0m\u001b[0;34m(\u001b[0m\u001b[0mpS2s\u001b[0m\u001b[0;34m[\u001b[0m\u001b[0mgood_idxs\u001b[0m\u001b[0;34m]\u001b[0m\u001b[0;34m,\u001b[0m \u001b[0mpNpSs\u001b[0m\u001b[0;34m[\u001b[0m\u001b[0mgood_idxs\u001b[0m\u001b[0;34m]\u001b[0m\u001b[0;34m,\u001b[0m \u001b[0;34m'.'\u001b[0m\u001b[0;34m,\u001b[0m \u001b[0mcolor\u001b[0m\u001b[0;34m=\u001b[0m\u001b[0;34m'0.7'\u001b[0m\u001b[0;34m,\u001b[0m \u001b[0mmarkersize\u001b[0m\u001b[0;34m=\u001b[0m\u001b[0;36m2\u001b[0m\u001b[0;34m,\u001b[0m\u001b[0malpha\u001b[0m\u001b[0;34m=\u001b[0m\u001b[0;36m0.5\u001b[0m\u001b[0;34m,\u001b[0m\u001b[0mmarkeredgewidth\u001b[0m\u001b[0;34m=\u001b[0m\u001b[0;36m0\u001b[0m\u001b[0;34m,\u001b[0m\u001b[0mzorder\u001b[0m\u001b[0;34m=\u001b[0m\u001b[0;36m0\u001b[0m\u001b[0;34m,\u001b[0m\u001b[0mrasterized\u001b[0m\u001b[0;34m=\u001b[0m\u001b[0mTrue\u001b[0m\u001b[0;34m)\u001b[0m\u001b[0;34m\u001b[0m\u001b[0m\n\u001b[0m",
      "\u001b[0;31mNameError\u001b[0m: name 'pS2s' is not defined"
     ]
    }
   ],
   "source": [
    "all_syn_differences = []\n",
    "all_syn_opportunities = []\n",
    "all_non_differences = []\n",
    "all_non_opportunities = []\n",
    "all_core_differences = []\n",
    "all_core_opportunities = []\n",
    "\n",
    "# Plot percentiles of divergence distribution\n",
    "for tp_pair in syn_differences:\n",
    "    for species_name in syn_differences[tp_pair]:\n",
    "        \n",
    "        syn_opps = syn_opportunities[tp_pair][species_name]\n",
    "        syn_diffs = syn_differences[tp_pair][species_name]\n",
    "        non_opps = non_opportunities[tp_pair][species_name]\n",
    "        non_diffs = non_differences[tp_pair][species_name]\n",
    "        \n",
    "        # Use the Poisson thinning theorem to cut down on \n",
    "        # non-biological correlations between dS and dN/dS \n",
    "        # (i.e., fact that dS is in denominator of dN/dS.\n",
    "        # thinned_syn_differences_1 = binomial(numpy.array(syn_diffs,dtype=numpy.int32),0.5)\n",
    "        # thinned_syn_differences_2 = syn_diffs-thinned_syn_differences_1   \n",
    "\n",
    "        # pS1s = thinned_syn_differences_1*1.0/(syn_opps/2.0)\n",
    "        # pS2s = thinned_syn_differences_2*1.0/(syn_opps/2.0)\n",
    "        pSs = syn_diffs*1.0/syn_opps\n",
    "        pNs = non_diffs*1.0/non_opps\n",
    "        ptots = (syn_diffs+non_diffs)*1.0/(syn_opps + non_opps)\n",
    "\n",
    "        pseudo_pSs = 1.0/(syn_opps/2.0+non_opps)\n",
    "        pseudo_pNs = 1.0/(syn_opps/2.0+non_opps)\n",
    "\n",
    "        # pS2s = numpy.clip(pS2s,1e-06,1)\n",
    "\n",
    "        # pNpSs = ((pseudo_pNs+pNs)/(pseudo_pSs+pS1s) )\n",
    "\n",
    "        all_syn_differences.extend( syn_diffs )\n",
    "        all_syn_opportunities.extend( syn_opps )\n",
    "\n",
    "        all_non_differences.extend( non_diffs )\n",
    "        all_non_opportunities.extend( non_opps )\n",
    "\n",
    "        good_idxs = ((syn_diffs+non_diffs)>=10)\n",
    "        bad_idxs = numpy.logical_not(good_idxs) \n",
    "\n",
    "        divergence_axis.loglog(pS2s[good_idxs], pNpSs[good_idxs], '.', color='0.7', markersize=2,alpha=0.5,markeredgewidth=0,zorder=0,rasterized=True)\n"
   ]
  },
  {
   "cell_type": "code",
   "execution_count": 31,
   "metadata": {
    "collapsed": true,
    "deletable": true,
    "editable": true
   },
   "outputs": [],
   "source": [
    "all_syn_differences = numpy.array(all_syn_differences,dtype=numpy.int32)\n",
    "all_syn_opportunities = numpy.array(all_syn_opportunities,dtype=numpy.int32)\n",
    "all_non_differences = numpy.array(all_non_differences,dtype=numpy.int32)\n",
    "all_non_opportunities = numpy.array(all_non_opportunities,dtype=numpy.int32)\n",
    "\n",
    "all_syn_divergence = all_syn_differences*1.0/all_syn_opportunities\n",
    "all_NS_differences = all_syn_differences + all_non_differences\n",
    "all_NS_opportunities = all_syn_opportunities + all_non_opportunities\n",
    "all_fractions = all_non_differences*1.0/(all_NS_differences+(all_NS_differences==0))"
   ]
  },
  {
   "cell_type": "code",
   "execution_count": null,
   "metadata": {
    "collapsed": true,
    "deletable": true,
    "editable": true
   },
   "outputs": [],
   "source": [
    "def tp_to_category(tp_pair):\n",
    "    tpa, tpb = tp_pair\n",
    "    string = 'MI' if (tpa[0], tpb[0]) == ('I', 'M') else tpa[0]+tpb[0]\n",
    "    return string"
   ]
  },
  {
   "cell_type": "code",
   "execution_count": 35,
   "metadata": {
    "collapsed": false,
    "deletable": true,
    "editable": true
   },
   "outputs": [
    {
     "ename": "KeyboardInterrupt",
     "evalue": "",
     "output_type": "error",
     "traceback": [
      "\u001b[0;31m\u001b[0m",
      "\u001b[0;31mKeyboardInterrupt\u001b[0mTraceback (most recent call last)",
      "\u001b[0;32m<ipython-input-35-742e2be31c7d>\u001b[0m in \u001b[0;36m<module>\u001b[0;34m()\u001b[0m\n\u001b[1;32m     33\u001b[0m \u001b[0;34m\u001b[0m\u001b[0m\n\u001b[1;32m     34\u001b[0m         \u001b[0mgood_idxs\u001b[0m \u001b[0;34m=\u001b[0m \u001b[0;34m(\u001b[0m\u001b[0;34m(\u001b[0m\u001b[0msyn_diffs\u001b[0m\u001b[0;34m+\u001b[0m\u001b[0mnon_diffs\u001b[0m\u001b[0;34m)\u001b[0m\u001b[0;34m>=\u001b[0m\u001b[0;36m10\u001b[0m\u001b[0;34m)\u001b[0m\u001b[0;34m\u001b[0m\u001b[0m\n\u001b[0;32m---> 35\u001b[0;31m         \u001b[0mdivergence_axis\u001b[0m\u001b[0;34m.\u001b[0m\u001b[0mloglog\u001b[0m\u001b[0;34m(\u001b[0m\u001b[0mpSs\u001b[0m\u001b[0;34m[\u001b[0m\u001b[0mgood_idxs\u001b[0m\u001b[0;34m]\u001b[0m\u001b[0;34m,\u001b[0m \u001b[0mpNpSs\u001b[0m\u001b[0;34m[\u001b[0m\u001b[0mgood_idxs\u001b[0m\u001b[0;34m]\u001b[0m\u001b[0;34m,\u001b[0m \u001b[0;34m'.'\u001b[0m\u001b[0;34m,\u001b[0m \u001b[0mcolor\u001b[0m\u001b[0;34m=\u001b[0m\u001b[0;34m'0.7'\u001b[0m\u001b[0;34m,\u001b[0m \u001b[0mmarkersize\u001b[0m\u001b[0;34m=\u001b[0m\u001b[0;36m2\u001b[0m\u001b[0;34m,\u001b[0m\u001b[0malpha\u001b[0m\u001b[0;34m=\u001b[0m\u001b[0;36m0.5\u001b[0m\u001b[0;34m,\u001b[0m\u001b[0mmarkeredgewidth\u001b[0m\u001b[0;34m=\u001b[0m\u001b[0;36m0\u001b[0m\u001b[0;34m,\u001b[0m\u001b[0mzorder\u001b[0m\u001b[0;34m=\u001b[0m\u001b[0;36m0\u001b[0m\u001b[0;34m,\u001b[0m\u001b[0mrasterized\u001b[0m\u001b[0;34m=\u001b[0m\u001b[0mTrue\u001b[0m\u001b[0;34m)\u001b[0m\u001b[0;34m\u001b[0m\u001b[0m\n\u001b[0m\u001b[1;32m     36\u001b[0m \u001b[0;34m\u001b[0m\u001b[0m\n",
      "\u001b[0;32m/u/local/apps/python/2.7.13/lib/python2.7/site-packages/matplotlib/axes/_axes.pyc\u001b[0m in \u001b[0;36mloglog\u001b[0;34m(self, *args, **kwargs)\u001b[0m\n\u001b[1;32m   1667\u001b[0m \u001b[0;34m\u001b[0m\u001b[0m\n\u001b[1;32m   1668\u001b[0m         \u001b[0mself\u001b[0m\u001b[0;34m.\u001b[0m\u001b[0mset_xscale\u001b[0m\u001b[0;34m(\u001b[0m\u001b[0;34m'log'\u001b[0m\u001b[0;34m,\u001b[0m \u001b[0;34m**\u001b[0m\u001b[0mdx\u001b[0m\u001b[0;34m)\u001b[0m\u001b[0;34m\u001b[0m\u001b[0m\n\u001b[0;32m-> 1669\u001b[0;31m         \u001b[0mself\u001b[0m\u001b[0;34m.\u001b[0m\u001b[0mset_yscale\u001b[0m\u001b[0;34m(\u001b[0m\u001b[0;34m'log'\u001b[0m\u001b[0;34m,\u001b[0m \u001b[0;34m**\u001b[0m\u001b[0mdy\u001b[0m\u001b[0;34m)\u001b[0m\u001b[0;34m\u001b[0m\u001b[0m\n\u001b[0m\u001b[1;32m   1670\u001b[0m \u001b[0;34m\u001b[0m\u001b[0m\n\u001b[1;32m   1671\u001b[0m         \u001b[0mb\u001b[0m \u001b[0;34m=\u001b[0m \u001b[0mself\u001b[0m\u001b[0;34m.\u001b[0m\u001b[0m_hold\u001b[0m\u001b[0;34m\u001b[0m\u001b[0m\n",
      "\u001b[0;32m/u/local/apps/python/2.7.13/lib/python2.7/site-packages/matplotlib/axes/_base.pyc\u001b[0m in \u001b[0;36mset_yscale\u001b[0;34m(self, value, **kwargs)\u001b[0m\n\u001b[1;32m   3532\u001b[0m             \u001b[0max\u001b[0m\u001b[0;34m.\u001b[0m\u001b[0m_update_transScale\u001b[0m\u001b[0;34m(\u001b[0m\u001b[0;34m)\u001b[0m\u001b[0;34m\u001b[0m\u001b[0m\n\u001b[1;32m   3533\u001b[0m             \u001b[0max\u001b[0m\u001b[0;34m.\u001b[0m\u001b[0mstale\u001b[0m \u001b[0;34m=\u001b[0m \u001b[0mTrue\u001b[0m\u001b[0;34m\u001b[0m\u001b[0m\n\u001b[0;32m-> 3534\u001b[0;31m         \u001b[0mself\u001b[0m\u001b[0;34m.\u001b[0m\u001b[0mautoscale_view\u001b[0m\u001b[0;34m(\u001b[0m\u001b[0mscalex\u001b[0m\u001b[0;34m=\u001b[0m\u001b[0mFalse\u001b[0m\u001b[0;34m)\u001b[0m\u001b[0;34m\u001b[0m\u001b[0m\n\u001b[0m\u001b[1;32m   3535\u001b[0m \u001b[0;34m\u001b[0m\u001b[0m\n\u001b[1;32m   3536\u001b[0m     \u001b[0;32mdef\u001b[0m \u001b[0mget_yticks\u001b[0m\u001b[0;34m(\u001b[0m\u001b[0mself\u001b[0m\u001b[0;34m,\u001b[0m \u001b[0mminor\u001b[0m\u001b[0;34m=\u001b[0m\u001b[0mFalse\u001b[0m\u001b[0;34m)\u001b[0m\u001b[0;34m:\u001b[0m\u001b[0;34m\u001b[0m\u001b[0m\n",
      "\u001b[0;32m/u/local/apps/python/2.7.13/lib/python2.7/site-packages/matplotlib/axes/_base.pyc\u001b[0m in \u001b[0;36mautoscale_view\u001b[0;34m(self, tight, scalex, scaley)\u001b[0m\n\u001b[1;32m   2474\u001b[0m \u001b[0;34m\u001b[0m\u001b[0m\n\u001b[1;32m   2475\u001b[0m         \u001b[0;32mif\u001b[0m \u001b[0mself\u001b[0m\u001b[0;34m.\u001b[0m\u001b[0muse_sticky_edges\u001b[0m \u001b[0;32mand\u001b[0m \u001b[0;34m(\u001b[0m\u001b[0mself\u001b[0m\u001b[0;34m.\u001b[0m\u001b[0m_xmargin\u001b[0m \u001b[0;32mor\u001b[0m \u001b[0mself\u001b[0m\u001b[0;34m.\u001b[0m\u001b[0m_ymargin\u001b[0m\u001b[0;34m)\u001b[0m\u001b[0;34m:\u001b[0m\u001b[0;34m\u001b[0m\u001b[0m\n\u001b[0;32m-> 2476\u001b[0;31m             \u001b[0mstickies\u001b[0m \u001b[0;34m=\u001b[0m \u001b[0;34m[\u001b[0m\u001b[0martist\u001b[0m\u001b[0;34m.\u001b[0m\u001b[0msticky_edges\u001b[0m \u001b[0;32mfor\u001b[0m \u001b[0martist\u001b[0m \u001b[0;32min\u001b[0m \u001b[0mself\u001b[0m\u001b[0;34m.\u001b[0m\u001b[0mget_children\u001b[0m\u001b[0;34m(\u001b[0m\u001b[0;34m)\u001b[0m\u001b[0;34m]\u001b[0m\u001b[0;34m\u001b[0m\u001b[0m\n\u001b[0m\u001b[1;32m   2477\u001b[0m             \u001b[0mx_stickies\u001b[0m \u001b[0;34m=\u001b[0m \u001b[0msum\u001b[0m\u001b[0;34m(\u001b[0m\u001b[0;34m[\u001b[0m\u001b[0msticky\u001b[0m\u001b[0;34m.\u001b[0m\u001b[0mx\u001b[0m \u001b[0;32mfor\u001b[0m \u001b[0msticky\u001b[0m \u001b[0;32min\u001b[0m \u001b[0mstickies\u001b[0m\u001b[0;34m]\u001b[0m\u001b[0;34m,\u001b[0m \u001b[0;34m[\u001b[0m\u001b[0;34m]\u001b[0m\u001b[0;34m)\u001b[0m\u001b[0;34m\u001b[0m\u001b[0m\n\u001b[1;32m   2478\u001b[0m             \u001b[0my_stickies\u001b[0m \u001b[0;34m=\u001b[0m \u001b[0msum\u001b[0m\u001b[0;34m(\u001b[0m\u001b[0;34m[\u001b[0m\u001b[0msticky\u001b[0m\u001b[0;34m.\u001b[0m\u001b[0my\u001b[0m \u001b[0;32mfor\u001b[0m \u001b[0msticky\u001b[0m \u001b[0;32min\u001b[0m \u001b[0mstickies\u001b[0m\u001b[0;34m]\u001b[0m\u001b[0;34m,\u001b[0m \u001b[0;34m[\u001b[0m\u001b[0;34m]\u001b[0m\u001b[0;34m)\u001b[0m\u001b[0;34m\u001b[0m\u001b[0m\n",
      "\u001b[0;32m/u/local/apps/python/2.7.13/lib/python2.7/site-packages/matplotlib/artist.pyc\u001b[0m in \u001b[0;36msticky_edges\u001b[0;34m(self)\u001b[0m\n\u001b[1;32m    959\u001b[0m \u001b[0;34m\u001b[0m\u001b[0m\n\u001b[1;32m    960\u001b[0m         \"\"\"\n\u001b[0;32m--> 961\u001b[0;31m         \u001b[0;32mreturn\u001b[0m \u001b[0mself\u001b[0m\u001b[0;34m.\u001b[0m\u001b[0m_sticky_edges\u001b[0m\u001b[0;34m\u001b[0m\u001b[0m\n\u001b[0m\u001b[1;32m    962\u001b[0m \u001b[0;34m\u001b[0m\u001b[0m\n\u001b[1;32m    963\u001b[0m     \u001b[0;32mdef\u001b[0m \u001b[0mupdate_from\u001b[0m\u001b[0;34m(\u001b[0m\u001b[0mself\u001b[0m\u001b[0;34m,\u001b[0m \u001b[0mother\u001b[0m\u001b[0;34m)\u001b[0m\u001b[0;34m:\u001b[0m\u001b[0;34m\u001b[0m\u001b[0m\n",
      "\u001b[0;31mKeyboardInterrupt\u001b[0m: "
     ]
    }
   ],
   "source": [
    "# Simplified version\n",
    "\n",
    "fig, divergence_axis = plt.subplots(figsize=(8, 14))\n",
    "\n",
    "divergence_axis.set_ylabel('Nonsynonymous ratio, $d_N/d_S$')\n",
    "divergence_axis.set_xlabel('Synonymous divergence, $d_S$')\n",
    "divergence_axis.spines['top'].set_visible(False)\n",
    "divergence_axis.spines['right'].set_visible(False)\n",
    "divergence_axis.get_xaxis().tick_bottom()\n",
    "divergence_axis.get_yaxis().tick_left()\n",
    "\n",
    "divergence_axis.set_ylabel('Nonsynonymous ratio, $d_N/d_S$')\n",
    "divergence_axis.set_xlabel('Synonymous divergence, $d_S$')\n",
    "divergence_axis.spines['top'].set_visible(False)\n",
    "divergence_axis.spines['right'].set_visible(False)\n",
    "divergence_axis.get_xaxis().tick_bottom()\n",
    "divergence_axis.get_yaxis().tick_left()\n",
    "\n",
    "pSs_by_tp_cat = defaultdict(list)\n",
    "pNpSs_by_tp_cat = defaultdict(list)\n",
    "\n",
    "for tp_pair in syn_differences:\n",
    "    try:\n",
    "        tp_cat = tp_to_category(tp_pair)\n",
    "    except:\n",
    "        print(\"Weird...\")\n",
    "        continue\n",
    "    for species_name in syn_differences[tp_pair]:\n",
    "        \n",
    "        syn_opps = syn_opportunities[tp_pair][species_name]\n",
    "        syn_diffs = syn_differences[tp_pair][species_name]\n",
    "        non_opps = non_opportunities[tp_pair][species_name]\n",
    "        non_diffs = non_differences[tp_pair][species_name]\n",
    "        \n",
    "        pSs = syn_diffs*1.0/syn_opps\n",
    "        pNs = non_diffs*1.0/non_opps\n",
    "        pseudo_pSs = 1.0/(syn_opps/2.0+non_opps)\n",
    "        pseudo_pNs = 1.0/(syn_opps/2.0+non_opps)\n",
    "        \n",
    "        pNpSs = ((pseudo_pNs+pNs)/(pseudo_pSs+pSs))\n",
    "        \n",
    "        good_idxs = ((syn_diffs+non_diffs)>=10)\n",
    "        pSs_by_tp_cat[tp_cat] += list(pSs[good_idxs])\n",
    "        pNpSs_by_tp_cat[tp_cat] += list(pNpSs[good_idxs])"
   ]
  },
  {
   "cell_type": "code",
   "execution_count": null,
   "metadata": {
    "collapsed": true,
    "deletable": true,
    "editable": true
   },
   "outputs": [],
   "source": [
    "tp_cat = 'II'\n",
    "divergence_axis.loglog(pSs_by_tp_cat[tp_cat], pNpSs_by_tp_cat[tp_cat], '.', color='0.7', markersize=2,alpha=0.5,markeredgewidth=0,zorder=0,rasterized=True)"
   ]
  },
  {
   "cell_type": "code",
   "execution_count": null,
   "metadata": {
    "collapsed": true,
    "deletable": true,
    "editable": true
   },
   "outputs": [],
   "source": [
    "fig.savefig(\"%s/dnds.pdf\" % config.analysis_directory)"
   ]
  },
  {
   "cell_type": "code",
   "execution_count": null,
   "metadata": {
    "collapsed": true,
    "deletable": true,
    "editable": true
   },
   "outputs": [],
   "source": [
    "pSs"
   ]
  },
  {
   "cell_type": "code",
   "execution_count": null,
   "metadata": {
    "collapsed": true,
    "deletable": true,
    "editable": true
   },
   "outputs": [],
   "source": [
    "plt.show()"
   ]
  },
  {
   "cell_type": "code",
   "execution_count": null,
   "metadata": {
    "collapsed": true,
    "deletable": true,
    "editable": true
   },
   "outputs": [],
   "source": [
    "ds = numpy.logspace(-5,-2,20)\n",
    "\n",
    "cf_ratios = [] # cumulative estimates <= total d\n",
    "sf_ratios = [] # cumulative estimates >= total d\n",
    "\n",
    "sys.stderr.write(\"Bootstrapping dN/dS...\\n\")\n",
    "num_bootstraps = 500\n",
    "for bootstrap_idx in xrange(0,num_bootstraps):\n",
    "    \n",
    "    lower_pNpSs = []\n",
    "    upper_pNpSs = []\n",
    "    \n",
    "    # bootstrap dataset using poisson resampling\n",
    "    # Pseudocounts are added so that things w/ zero counts are not \"stuck\" there in resampling\n",
    "    # Pseudocounts are chosen w/ dN/dS=1, so should be conservative?\n",
    "    # (alternatively, we could choose dN/dS=0.1, but that seems a little unfair)\n",
    "    pseudocount = 0 #1.0\n",
    "    bootstrapped_non_differences = poisson(all_non_differences+pseudocount) \n",
    "    bootstrapped_syn_differences = poisson(all_syn_differences+all_syn_opportunities*pseudocount/all_non_opportunities)\n",
    "    bootstrapped_NS_differences = bootstrapped_non_differences + bootstrapped_syn_differences\n",
    "    bootstrapped_thinned_syn_differences_1 = binomial(bootstrapped_syn_differences,0.5)\n",
    "    bootstrapped_thinned_syn_differences_2 = bootstrapped_syn_differences-bootstrapped_thinned_syn_differences_1\n",
    "    \n",
    "    bootstrapped_divergence = bootstrapped_thinned_syn_differences_1 / (all_syn_opportunities/2.0)\n",
    "    \n",
    "    for d in ds:\n",
    "        \n",
    "        lower_idxs = (bootstrapped_divergence <= d)*(all_NS_differences>0.5)*(bootstrapped_NS_differences>0.5)\n",
    "        upper_idxs = (bootstrapped_divergence > d)*(all_NS_differences>0.5)*(bootstrapped_NS_differences>0.5)\n",
    "        \n",
    "        if lower_idxs.sum()<1.5:\n",
    "            lower_pNpSs.append(-1)\n",
    "        else:           \n",
    "            lower_cumulative_non_differences = (bootstrapped_non_differences)[lower_idxs].sum()\n",
    "            lower_cumulative_expected_non_differences = (bootstrapped_thinned_syn_differences_2[lower_idxs]*2.0/all_syn_opportunities[lower_idxs]*all_non_opportunities[lower_idxs]).sum() \n",
    "            lower_pNpSs.append( (lower_cumulative_non_differences)/(lower_cumulative_expected_non_differences) )        \n",
    "        \n",
    "        if upper_idxs.sum()<1.5:\n",
    "            upper_pNpSs.append(-1)\n",
    "        else:\n",
    "            upper_cumulative_non_differences = (bootstrapped_non_differences[upper_idxs]).sum()\n",
    "            upper_cumulative_expected_non_differences = (bootstrapped_thinned_syn_differences_2[upper_idxs]*2.0/all_syn_opportunities[upper_idxs]*all_non_opportunities[upper_idxs]).sum() \n",
    "            upper_pNpSs.append( (upper_cumulative_non_differences)/(upper_cumulative_expected_non_differences) )        \n",
    "    \n",
    "    cf_ratios.append(lower_pNpSs)\n",
    "    sf_ratios.append(upper_pNpSs)   \n",
    "\n",
    "cf_ratios = numpy.array(cf_ratios)\n",
    "sf_ratios = numpy.array(sf_ratios)"
   ]
  },
  {
   "cell_type": "code",
   "execution_count": null,
   "metadata": {
    "collapsed": true,
    "deletable": true,
    "editable": true
   },
   "outputs": [],
   "source": [
    "avg_cf_ratios = []\n",
    "std_cf_ratios = []\n",
    "median_cf_ratios = []\n",
    "lower_cf_ratios = []\n",
    "upper_cf_ratios = []\n",
    "\n",
    "avg_sf_ratios = [] \n",
    "std_sf_ratios = [] \n",
    "\n",
    "for i in xrange(0,len(ds)):\n",
    "    \n",
    "    ratios = numpy.sort(cf_ratios[:,i])\n",
    "    good_idxs = (ratios>-0.5)\n",
    "    if good_idxs.sum()<1.5:\n",
    "        avg_cf_ratios.append(-1)\n",
    "        std_cf_ratios.append(0)\n",
    "    else:   \n",
    "        median_cf_ratios.append(numpy.median(ratios[good_idxs]))\n",
    "        idx = long(0.025*good_idxs.sum())\n",
    "        lower_cf_ratios.append( ratios[good_idxs][idx] )\n",
    "        upper_cf_ratios.append(ratios[good_idxs][-idx-1])\n",
    "    \n",
    "        avg_cf_ratios.append( ratios[good_idxs].mean() )\n",
    "        std_cf_ratios.append( ratios[good_idxs].std() )\n",
    "    \n",
    "    ratios = sf_ratios[:,i]\n",
    "    good_idxs = (ratios>-0.5)\n",
    "    if good_idxs.sum()<1.5:\n",
    "        avg_sf_ratios.append(-1)\n",
    "        std_sf_ratios.append(0)\n",
    "    else:\n",
    "        avg_sf_ratios.append( ratios[good_idxs].mean() )\n",
    "        std_sf_ratios.append( ratios[good_idxs].std() )        \n",
    "\n",
    "avg_cf_ratios = numpy.array(avg_cf_ratios)\n",
    "std_cf_ratios = numpy.array(std_cf_ratios)\n",
    "median_cf_ratios = numpy.array(median_cf_ratios)\n",
    "upper_cf_ratios = numpy.array(upper_cf_ratios)\n",
    "lower_cf_ratios = numpy.array(lower_cf_ratios)\n",
    "\n",
    "avg_sf_ratios = numpy.array(avg_sf_ratios)\n",
    "std_sf_ratios = numpy.array(std_sf_ratios)"
   ]
  },
  {
   "cell_type": "code",
   "execution_count": null,
   "metadata": {
    "collapsed": true,
    "deletable": true,
    "editable": true
   },
   "outputs": [],
   "source": [
    "good_idxs = (avg_cf_ratios>-0.5)\n",
    "cumulative_axis.fill_between(ds[good_idxs], lower_cf_ratios[good_idxs], upper_cf_ratios[good_idxs],color='0.7',linewidth=0,zorder=0)\n",
    "cumulative_axis.loglog(ds[good_idxs], avg_cf_ratios[good_idxs],'k-',zorder=2)\n",
    "\n",
    "median_pSs = numpy.array(median_pSs)\n",
    "median_pNs = numpy.array(median_pNs)\t \n",
    "\n",
    "divergence_axis.plot([1e-09],[100], 'o', color='0.7', markersize=2,markeredgewidth=0,zorder=0,label='(Species x host x host)')\n",
    "\n",
    "divergence_axis.loglog(median_pSs, median_pNs*1.0/median_pSs, 'kx',markersize=2,label='Median of each species',alpha=0.5)\n",
    "\n",
    "divergence_axis.set_ylim([1e-02,10])\t\t\n",
    "divergence_axis.set_xlim([1e-06,1e-01])\n",
    "\n",
    "theory_ds = numpy.logspace(-6,-1,100)\n",
    "\n",
    "#theory_dNdSs = asymptotic_dNdS+(1-asymptotic_dNdS)*(1-numpy.exp(-sbymu*theory_ds))/(theory_ds*sbymu)\n",
    "theory_dNdSs = theory_dN(theory_ds)/theory_ds\n",
    "\n",
    "line, = divergence_axis.loglog([1e-06,1e-03],[1,1],'k:',linewidth=0.25,label='Neutral model')\n",
    "line.set_dashes((1,1))\n",
    "divergence_axis.loglog(theory_ds, theory_dNdSs,'r-',label='Purifying selection model')\n",
    "\n",
    "divergence_axis.legend(loc='lower left',frameon=False,numpoints=1)\n",
    "#divergence_axis.legend(loc='upper right',frameon=False,numpoints=1)\n",
    "\n",
    "cumulative_axis.set_xlim([1e-05,1e-02])\n",
    "cumulative_axis.set_ylim([5e-02,2])\n",
    "cumulative_singleton_axis.set_ylim([5e-02,2])"
   ]
  }
 ],
 "metadata": {
  "kernelspec": {
   "display_name": "Python 2",
   "language": "python",
   "name": "python2"
  },
  "language_info": {
   "codemirror_mode": {
    "name": "ipython",
    "version": 2
   },
   "file_extension": ".py",
   "mimetype": "text/x-python",
   "name": "python",
   "nbconvert_exporter": "python",
   "pygments_lexer": "ipython2",
   "version": "2.7.13"
  }
 },
 "nbformat": 4,
 "nbformat_minor": 2
}
